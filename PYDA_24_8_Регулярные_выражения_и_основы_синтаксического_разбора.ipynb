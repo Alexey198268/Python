{
  "nbformat": 4,
  "nbformat_minor": 0,
  "metadata": {
    "colab": {
      "name": "PYDA-24. 8. Регулярные выражения и основы синтаксического разбора",
      "provenance": [],
      "authorship_tag": "ABX9TyMfu7QbclGHw0OcIdv/BR8i",
      "include_colab_link": true
    },
    "kernelspec": {
      "name": "python3",
      "display_name": "Python 3"
    },
    "language_info": {
      "name": "python"
    }
  },
  "cells": [
    {
      "cell_type": "markdown",
      "metadata": {
        "id": "view-in-github",
        "colab_type": "text"
      },
      "source": [
        "<a href=\"https://colab.research.google.com/github/Alexey198268/Python/blob/main/PYDA_24_8_%D0%A0%D0%B5%D0%B3%D1%83%D0%BB%D1%8F%D1%80%D0%BD%D1%8B%D0%B5_%D0%B2%D1%8B%D1%80%D0%B0%D0%B6%D0%B5%D0%BD%D0%B8%D1%8F_%D0%B8_%D0%BE%D1%81%D0%BD%D0%BE%D0%B2%D1%8B_%D1%81%D0%B8%D0%BD%D1%82%D0%B0%D0%BA%D1%81%D0%B8%D1%87%D0%B5%D1%81%D0%BA%D0%BE%D0%B3%D0%BE_%D1%80%D0%B0%D0%B7%D0%B1%D0%BE%D1%80%D0%B0.ipynb\" target=\"_parent\"><img src=\"https://colab.research.google.com/assets/colab-badge.svg\" alt=\"Open In Colab\"/></a>"
      ]
    },
    {
      "cell_type": "markdown",
      "metadata": {
        "id": "--6loO8xvPOK"
      },
      "source": [
        "#Задание 1\n",
        "Напишите функцию, которая принимает на вход строку и проверяет является ли она валидным транспортным номером (1 буква, 3 цифры, 2 буквы, 2-3 цифры). Обратите внимание, что не все буквы кириллического алфавита используются в транспортных номерах.\n",
        "\n",
        "Если номер валиден, то функция должна возвращать отдельно номер и регион.\n",
        "\n",
        "Примеры работы программы:\n",
        "\n",
        "car_id = 'A222BC96’\n",
        "Результат: Номер A222BС валиден. Регион: 96\n",
        "\n",
        "car_id = 'АБ22ВВ193’\n",
        "Результат: Номер не валиден"
      ]
    },
    {
      "cell_type": "code",
      "metadata": {
        "colab": {
          "base_uri": "https://localhost:8080/"
        },
        "id": "Xd3zTuvrvVm-",
        "outputId": "38ff747f-ea4e-440f-da8e-391d16898c71"
      },
      "source": [
        "#На автомобильных номерных знаках в России используются только те буквы, которые присутствуют и в кириллице, и в латинице. \n",
        "#Таких букв только 12 — А, В, Е, К, М, Н, О, Р, С, Т, У, Х.\n",
        "import re\n",
        "car_id = input()\n",
        "result = re.search(r'([ABEKMHOPCTXY]\\d{3}[ABEKMHOPCTXY]{2})(\\d{2,3})', car_id)\n",
        "if result:\n",
        "  print(f'Номер {result.group(1)} валиден. Регион: {result.group(2)}')\n",
        "else:\n",
        "  print('Номер не валиден')\n"
      ],
      "execution_count": null,
      "outputs": [
        {
          "output_type": "stream",
          "text": [
            "A222BC96\n",
            "Номер A222BC валиден. Регион: 96\n"
          ],
          "name": "stdout"
        }
      ]
    },
    {
      "cell_type": "markdown",
      "metadata": {
        "id": "5_nlqBoeEz4d"
      },
      "source": [
        "#Задание 2\n",
        "Напишите функцию, которая будет удалять все последовательные повторы слов из заданной строки при помощи регулярных выражений.\n",
        "\n",
        "Пример работы программы:\n",
        "\n",
        "some_string = ‘Напишите функцию функцию, которая будет будет будет будет удалять все все все все последовательные повторы слов из из из из заданной строки строки при помощи регулярных выражений.’\n",
        "\n",
        "Результат:\n",
        "Напишите функцию, которая будет удалять все последовательные повторы слов из заданной строки при помощи регулярных выражений."
      ]
    },
    {
      "cell_type": "code",
      "metadata": {
        "colab": {
          "base_uri": "https://localhost:8080/",
          "height": 35
        },
        "id": "hqCDmCqt1WVh",
        "outputId": "d649b995-d64d-4a20-edca-dcd8a2e5d9a5"
      },
      "source": [
        "import re\n",
        "some_string = 'Напишите функцию функцию, которая будет будет будет будет удалять все все все все последовательные повторы слов из из из из заданной строки строки при помощи регулярных выражений.'\n",
        "re.sub(r'(\\w+\\s)\\1+', r'\\1', some_string)"
      ],
      "execution_count": null,
      "outputs": [
        {
          "output_type": "execute_result",
          "data": {
            "application/vnd.google.colaboratory.intrinsic+json": {
              "type": "string"
            },
            "text/plain": [
              "'Напишите функцию функцию, которая будет удалять все последовательные повторы слов из заданной строки при помощи регулярных выражений.'"
            ]
          },
          "metadata": {},
          "execution_count": 34
        }
      ]
    },
    {
      "cell_type": "markdown",
      "metadata": {
        "id": "560nJK-_LBr1"
      },
      "source": [
        "#Задание 3\n",
        "Напишите функцию, которая будет возвращать акроним по переданной в нее строке со словами.\n",
        "\n",
        "Примеры работы программы:\n",
        "\n",
        "some_words = 'Информационные технологии’\n",
        "Результат: ИТ\n",
        "\n",
        "some_words = 'Near Field Communication’\n",
        "Результат: NFC"
      ]
    },
    {
      "cell_type": "code",
      "metadata": {
        "colab": {
          "base_uri": "https://localhost:8080/"
        },
        "id": "HkurANmbJm-W",
        "outputId": "4277defa-5c5f-445c-d2f8-c179e3e51c50"
      },
      "source": [
        "import re\n",
        "some_words = 'Near Field Communication'\n",
        "my_list = re.findall(r'\\w+', some_words)\n",
        "for element in my_list:\n",
        "  print(element[0], end = '')\n",
        "\n"
      ],
      "execution_count": null,
      "outputs": [
        {
          "output_type": "stream",
          "text": [
            "NFC"
          ],
          "name": "stdout"
        }
      ]
    },
    {
      "cell_type": "markdown",
      "metadata": {
        "id": "MvhUjrKQ0G--"
      },
      "source": [
        "#Задание 4\n",
        "Напишите функцию, которая будет принимать на вход список email-адресов и выводить их распределение по доменным зонам.\n",
        "\n",
        "Пример работы программы:\n",
        "\n",
        "emails = [‘test@gmail.com’, ‘xyz@test.in’, ‘test@ya.ru’, ‘xyz@mail.ru’, ‘xyz@ya.ru’, ‘xyz@gmail.com’]\n",
        "\n",
        "Результат:\n",
        "\n",
        "gmail.com: 2\n",
        "test.in: 1\n",
        "ya.ru: 2\n",
        "mail.ru: 1"
      ]
    },
    {
      "cell_type": "code",
      "metadata": {
        "colab": {
          "base_uri": "https://localhost:8080/"
        },
        "id": "_EhgiEMWvgGJ",
        "outputId": "f8909502-1877-4980-c597-b6ab69869072"
      },
      "source": [
        "import re\n",
        "emails = ['test@gmail.com', 'xyz@test.in', 'test@ya.ru', 'xyz@mail.ru', 'xyz@ya.ru', 'xyz@gmail.com']\n",
        "emails_domains = []\n",
        "for element in emails:\n",
        "  # print(type(element))\n",
        "  element = re.findall(r'@\\w*\\.\\w*', element)\n",
        "  # print(type(element))\n",
        "  # print(element)\n",
        "  emails_domains.append(element[0][1:])\n",
        "vars = set(emails_domains)\n",
        "res_dict = {}\n",
        "for variant in vars:\n",
        "  res_dict[variant] = len([element for element in emails_domains if element == variant])\n",
        "for key, value in res_dict.items():\n",
        "  print(key+': '+str(value), end=' ')"
      ],
      "execution_count": null,
      "outputs": [
        {
          "output_type": "stream",
          "text": [
            "mail.ru: 1 gmail.com: 2 test.in: 1 ya.ru: 2 "
          ],
          "name": "stdout"
        }
      ]
    },
    {
      "cell_type": "code",
      "metadata": {
        "id": "grBglTgh8COT"
      },
      "source": [
        ""
      ],
      "execution_count": null,
      "outputs": []
    }
  ]
}