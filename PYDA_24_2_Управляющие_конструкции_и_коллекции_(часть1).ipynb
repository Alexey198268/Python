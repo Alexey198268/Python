{
  "nbformat": 4,
  "nbformat_minor": 0,
  "metadata": {
    "colab": {
      "name": "PYDA-24_2.Управляющие конструкции и коллекции (часть1)",
      "provenance": [],
      "authorship_tag": "ABX9TyMTzl86OzN4Pc9o8b8tszsG",
      "include_colab_link": true
    },
    "kernelspec": {
      "name": "python3",
      "display_name": "Python 3"
    },
    "language_info": {
      "name": "python"
    }
  },
  "cells": [
    {
      "cell_type": "markdown",
      "metadata": {
        "id": "view-in-github",
        "colab_type": "text"
      },
      "source": [
        "<a href=\"https://colab.research.google.com/github/Alexey198268/Python/blob/main/PYDA_24_2_%D0%A3%D0%BF%D1%80%D0%B0%D0%B2%D0%BB%D1%8F%D1%8E%D1%89%D0%B8%D0%B5_%D0%BA%D0%BE%D0%BD%D1%81%D1%82%D1%80%D1%83%D0%BA%D1%86%D0%B8%D0%B8_%D0%B8_%D0%BA%D0%BE%D0%BB%D0%BB%D0%B5%D0%BA%D1%86%D0%B8%D0%B8_(%D1%87%D0%B0%D1%81%D1%82%D1%8C1).ipynb\" target=\"_parent\"><img src=\"https://colab.research.google.com/assets/colab-badge.svg\" alt=\"Open In Colab\"/></a>"
      ]
    },
    {
      "cell_type": "markdown",
      "metadata": {
        "id": "-Sa5EQI76ESy"
      },
      "source": [
        "Задание 1\n",
        "Дана переменная, в которой хранится слово из латинских букв. Напишите код, который выводит на экран:\n",
        "\n",
        "среднюю букву, если число букв в слове нечетное;\n",
        "две средних буквы, если число букв четное."
      ]
    },
    {
      "cell_type": "code",
      "metadata": {
        "colab": {
          "base_uri": "https://localhost:8080/"
        },
        "id": "FwtwdVO65ra_",
        "outputId": "e5596502-c8c4-4886-c82f-07f915b5d0f9"
      },
      "source": [
        "word =  'testing'\n",
        "a = int(len(word)/2-1)\n",
        "b = int(len(word)/2+1)\n",
        "c = int(len(word)/2-0.5)\n",
        "if len(word)%2 == 0:\n",
        "  print(word[a:b])\n",
        "else:\n",
        "  print(word[c])"
      ],
      "execution_count": null,
      "outputs": [
        {
          "output_type": "stream",
          "text": [
            "t\n"
          ],
          "name": "stdout"
        }
      ]
    },
    {
      "cell_type": "markdown",
      "metadata": {
        "id": "kDxBQCKt9igR"
      },
      "source": [
        "Задание 2\n",
        "Напишите программу, которая последовательно запрашивает у пользователя числа (по одному за раз) и после первого нуля выводит сумму всех ранее введенных чисел."
      ]
    },
    {
      "cell_type": "code",
      "metadata": {
        "colab": {
          "base_uri": "https://localhost:8080/"
        },
        "id": "8c_w2iR27BBf",
        "outputId": "e0ef8ca2-c23d-44b3-c5a8-dd15e8917740"
      },
      "source": [
        "summ = 0\n",
        "a = int(input('Введите число'))\n",
        "while a !=0:\n",
        "  summ+=a\n",
        "  a = int(input('Введите число'))\n",
        "print(summ)"
      ],
      "execution_count": null,
      "outputs": [
        {
          "output_type": "stream",
          "text": [
            "Введите число1\n",
            "Введите число4\n",
            "Введите число6\n",
            "Введите число0\n",
            "11\n"
          ],
          "name": "stdout"
        }
      ]
    },
    {
      "cell_type": "markdown",
      "metadata": {
        "id": "ejP1kvN3-DSi"
      },
      "source": [
        "Задание 3\n",
        "Мы делаем MVP dating-сервиса, и у нас есть список парней и девушек.\n",
        "Выдвигаем гипотезу: лучшие рекомендации мы получим, если просто отсортируем имена по алфавиту и познакомим людей с одинаковыми индексами после сортировки! Но мы не будем никого знакомить, если кто-то может остаться без пары:"
      ]
    },
    {
      "cell_type": "code",
      "metadata": {
        "colab": {
          "base_uri": "https://localhost:8080/"
        },
        "id": "xtpumZPp9Z7I",
        "outputId": "03d7eda5-d288-4d4d-a3ed-40b97a97d635"
      },
      "source": [
        "boys = ['Peter', 'Alex', 'John', 'Arthur', 'Richard']\n",
        "girls = ['Kate', 'Liza', 'Kira', 'Emma', 'Trisha']\n",
        "boys = sorted(boys)\n",
        "girls = sorted(girls)\n",
        "if len(boys) != len(girls):\n",
        "  print('Не будем никого знакомить')\n",
        "else:\n",
        "  para = list(zip(boys,girls))\n",
        "  print('Идеальные пары:')\n",
        "  for element in para:\n",
        "    print(element[0]+' и '+ element[1])"
      ],
      "execution_count": null,
      "outputs": [
        {
          "output_type": "stream",
          "text": [
            "Идеальные пары:\n",
            "Alex и Emma\n",
            "Arthur и Kate\n",
            "John и Kira\n",
            "Peter и Liza\n",
            "Richard и Trisha\n"
          ],
          "name": "stdout"
        }
      ]
    },
    {
      "cell_type": "markdown",
      "metadata": {
        "id": "303CSe_9DsJU"
      },
      "source": [
        "Задание 4\n",
        "У нас есть список, содержащий информацию о среднедневной температуре в Фаренгейтах за произвольный период по странам (структура данных в примере). Необходимо написать код, который рассчитает среднюю температуру за период в Цельсиях(!) для каждой страны."
      ]
    },
    {
      "cell_type": "code",
      "metadata": {
        "colab": {
          "base_uri": "https://localhost:8080/"
        },
        "id": "lLrJgN5UC8Vh",
        "outputId": "975d6fff-0a2f-4bba-d543-d82ea360fdc3"
      },
      "source": [
        "# (Фаренгейт — 32) : 1,8 = Цельсий\n",
        "countries_temperature = [\n",
        "['Thailand', [75.2, 77, 78.8, 73.4, 68, 75.2, 77]],\n",
        "['Germany', [57.2, 55.4, 59, 59, 53.6]],\n",
        "['Russia', [35.6, 37.4, 39.2, 41, 42.8, 39.2, 35.6]],\n",
        "['Poland', [50, 50, 53.6, 57.2, 55.4, 55.4]]\n",
        "]\n",
        "cels = []\n",
        "a = 0\n",
        "for i in countries_temperature:\n",
        "  a = 0\n",
        "  for j in i[1]:\n",
        "    i[1][a] = (j-32)/1.8\n",
        "    a+=1\n",
        "print('Средняя температура в странах:')\n",
        "for i in countries_temperature:\n",
        "  sred = round(sum(i[1])/len(i[1]),1)\n",
        "  print(i[0]+' - '+str(sred)+' C')"
      ],
      "execution_count": null,
      "outputs": [
        {
          "output_type": "stream",
          "text": [
            "Средняя температура в странах:\n",
            "Thailand - 23.9 C\n",
            "Germany - 13.8 C\n",
            "Russia - 3.7 C\n",
            "Poland - 12.0 C\n"
          ],
          "name": "stdout"
        }
      ]
    },
    {
      "cell_type": "markdown",
      "metadata": {
        "id": "d6WJThXBiA6z"
      },
      "source": [
        "Задание 5 (необязательное)\n",
        "Дан поток логов по количеству просмотренных страниц для каждого пользователя. Вам необходимо написать алгоритм, который считает среднее значение просмотров на пользователя. Т. е. надо посчитать отношение суммы всех просмотров к количеству уникальных пользователей."
      ]
    },
    {
      "cell_type": "code",
      "metadata": {
        "colab": {
          "base_uri": "https://localhost:8080/"
        },
        "id": "Ivj35OIfOF4s",
        "outputId": "cc1fe38d-d7fc-404b-cf5f-e45f5ac42a81"
      },
      "source": [
        "stream = [\n",
        "'2018-01-01,user1,3',\n",
        "'2018-01-07,user1,4',\n",
        "'2018-03-29,user1,1',\n",
        "'2018-04-04,user1,13',\n",
        "'2018-01-05,user2,7',\n",
        "'2018-06-14,user3,4',\n",
        "'2018-07-02,user3,10',\n",
        "'2018-03-21,user4,19',\n",
        "'2018-03-22,user4,4',\n",
        "'2018-04-22,user4,8',\n",
        "'2018-05-03,user4,9',\n",
        "'2018-05-11,user4,11',\n",
        "]\n",
        "sum = 0\n",
        "count = 0\n",
        "for i in stream:\n",
        "  sum+=int(i.split(',')[2])\n",
        "for i in range(len(stream)):\n",
        "  if stream[i-1].split(',')[1] != stream[i].split(',')[1]:\n",
        "    count+=1\n",
        "res = round(sum/count,2)\n",
        "print('Среднее количество просмотров на уникального пользователя: '+str(res))"
      ],
      "execution_count": null,
      "outputs": [
        {
          "output_type": "stream",
          "text": [
            "Среднее количество просмотров на уникального пользователя: 23.25\n"
          ],
          "name": "stdout"
        }
      ]
    },
    {
      "cell_type": "markdown",
      "metadata": {
        "id": "rWK4ybmaTrWE"
      },
      "source": [
        "Задание 6 (необязательное)\n",
        "Необходимо у пользователя запрашивать набор чисел разделенных пробелом. В результате в отсортированном порядке должны выводиться числа, которые повторяются в вводе более одного раза."
      ]
    },
    {
      "cell_type": "code",
      "metadata": {
        "colab": {
          "base_uri": "https://localhost:8080/"
        },
        "id": "pz1HLuyeiet_",
        "outputId": "e314c1c6-5696-4d05-e375-7655e8eac5a6"
      },
      "source": [
        "string = '4 8 0 3 4 2 0 3'\n",
        "spisok = sorted(string.split(' '))\n",
        "new_spisok = []\n",
        "for i in range(len(spisok)):\n",
        "  if spisok[i-1] == spisok[i]:\n",
        "    new_spisok.append(spisok[i])\n",
        "for i in new_spisok:\n",
        "  print(i, end=' ')\n"
      ],
      "execution_count": null,
      "outputs": [
        {
          "output_type": "stream",
          "text": [
            "0 3 4 "
          ],
          "name": "stdout"
        }
      ]
    },
    {
      "cell_type": "code",
      "metadata": {
        "id": "irCjMwPtT7IU"
      },
      "source": [
        ""
      ],
      "execution_count": null,
      "outputs": []
    }
  ]
}