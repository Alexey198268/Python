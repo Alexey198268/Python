{
  "nbformat": 4,
  "nbformat_minor": 0,
  "metadata": {
    "colab": {
      "name": "da-28_diplom.ipynb",
      "provenance": [],
      "collapsed_sections": [],
      "authorship_tag": "ABX9TyNIui8RfLGt5DCObHa0zjg4",
      "include_colab_link": true
    },
    "kernelspec": {
      "name": "python3",
      "display_name": "Python 3"
    },
    "language_info": {
      "name": "python"
    }
  },
  "cells": [
    {
      "cell_type": "markdown",
      "metadata": {
        "id": "view-in-github",
        "colab_type": "text"
      },
      "source": [
        "<a href=\"https://colab.research.google.com/github/Alexey198268/Python/blob/main/da_28_diplom.ipynb\" target=\"_parent\"><img src=\"https://colab.research.google.com/assets/colab-badge.svg\" alt=\"Open In Colab\"/></a>"
      ]
    },
    {
      "cell_type": "markdown",
      "metadata": {
        "id": "koSaYejjZaxj"
      },
      "source": [
        "# 1. Первичная загрузка данных"
      ]
    },
    {
      "cell_type": "markdown",
      "metadata": {
        "id": "BVfXK_--oASi"
      },
      "source": [
        "Имеются исходные данные о продажах магазинов за период с 05.02.2010 по 01.11.2012.. Также есть информация о дополнительных факторах, относящихся к магазину, отделу и региональной активности на указанные даты. Это температура воздуха, стоимость топлива в регионе, индекс потребительских цен, уровень безработицы, признак, является ли неделя праздничной. "
      ]
    },
    {
      "cell_type": "markdown",
      "metadata": {
        "id": "28MAMHK6IgaP"
      },
      "source": [
        "Произведем первичную загрузку данных, а также поверхностное ознакомление (размер, колонки, структура)."
      ]
    },
    {
      "cell_type": "code",
      "metadata": {
        "id": "Cp4xUDj7mfIQ"
      },
      "source": [
        "import pandas as pd #импортируем библиотеку для работы\n",
        "\n",
        "#   файлы находятся на диске Google, откроем их по ссылкам и сохраним \n",
        "#   в соответствующие переменные factors (факторы), sales (продажи), stores (магазины):"
      ],
      "execution_count": null,
      "outputs": []
    },
    {
      "cell_type": "code",
      "metadata": {
        "id": "DA5tV3iJ88An"
      },
      "source": [
        "url_f = 'https://drive.google.com/file/d/1cVc4wjE97a3zdrYTAYDsai6OUDryd7kz/view?usp=sharing'\n",
        "path_f = 'https://drive.google.com/uc?export=download&id='+url_f.split('/')[-2]\n",
        "factors = pd.read_csv(path_f)"
      ],
      "execution_count": null,
      "outputs": []
    },
    {
      "cell_type": "code",
      "metadata": {
        "id": "PKGD1vNW88QB"
      },
      "source": [
        "url_s = 'https://drive.google.com/file/d/17YKsUkXp70APu0Lj_m8lnSDAU58eOPIC/view?usp=sharing'\n",
        "path_s = 'https://drive.google.com/uc?export=download&id='+url_s.split('/')[-2]\n",
        "sales = pd.read_csv(path_s)"
      ],
      "execution_count": null,
      "outputs": []
    },
    {
      "cell_type": "code",
      "metadata": {
        "id": "XlCcWXYi89z-"
      },
      "source": [
        "url_st = 'https://drive.google.com/file/d/1gcNFT-ZMHfFP-glB8fN_Kd3t-pF0cKHS/view?usp=sharing'\n",
        "path_st = 'https://drive.google.com/uc?export=download&id='+url_st.split('/')[-2]\n",
        "stores = pd.read_csv(path_st)"
      ],
      "execution_count": null,
      "outputs": []
    },
    {
      "cell_type": "markdown",
      "metadata": {
        "id": "NOXOcA7lJQh0"
      },
      "source": [
        "## 1.1. Факторы\n",
        "Более подробно рассмотрим первый файл, в котором содержится информация о дополнительных факторах. Он загружен в переменную factors."
      ]
    },
    {
      "cell_type": "code",
      "metadata": {
        "colab": {
          "base_uri": "https://localhost:8080/",
          "height": 206
        },
        "id": "325zC6k1m89Q",
        "outputId": "88b56540-4711-4f11-9334-738c062131b5"
      },
      "source": [
        "factors.head() #смотрим визуально на первые 5 строк файла"
      ],
      "execution_count": null,
      "outputs": [
        {
          "output_type": "execute_result",
          "data": {
            "text/html": [
              "<div>\n",
              "<style scoped>\n",
              "    .dataframe tbody tr th:only-of-type {\n",
              "        vertical-align: middle;\n",
              "    }\n",
              "\n",
              "    .dataframe tbody tr th {\n",
              "        vertical-align: top;\n",
              "    }\n",
              "\n",
              "    .dataframe thead th {\n",
              "        text-align: right;\n",
              "    }\n",
              "</style>\n",
              "<table border=\"1\" class=\"dataframe\">\n",
              "  <thead>\n",
              "    <tr style=\"text-align: right;\">\n",
              "      <th></th>\n",
              "      <th>Store</th>\n",
              "      <th>Date</th>\n",
              "      <th>Temperature</th>\n",
              "      <th>Fuel_Price</th>\n",
              "      <th>MarkDown1</th>\n",
              "      <th>MarkDown2</th>\n",
              "      <th>MarkDown3</th>\n",
              "      <th>MarkDown4</th>\n",
              "      <th>MarkDown5</th>\n",
              "      <th>CPI</th>\n",
              "      <th>Unemployment</th>\n",
              "      <th>IsHoliday</th>\n",
              "    </tr>\n",
              "  </thead>\n",
              "  <tbody>\n",
              "    <tr>\n",
              "      <th>0</th>\n",
              "      <td>1</td>\n",
              "      <td>05/02/2010</td>\n",
              "      <td>42.31</td>\n",
              "      <td>2.572</td>\n",
              "      <td>NaN</td>\n",
              "      <td>NaN</td>\n",
              "      <td>NaN</td>\n",
              "      <td>NaN</td>\n",
              "      <td>NaN</td>\n",
              "      <td>211.096358</td>\n",
              "      <td>8.106</td>\n",
              "      <td>False</td>\n",
              "    </tr>\n",
              "    <tr>\n",
              "      <th>1</th>\n",
              "      <td>1</td>\n",
              "      <td>12/02/2010</td>\n",
              "      <td>38.51</td>\n",
              "      <td>2.548</td>\n",
              "      <td>NaN</td>\n",
              "      <td>NaN</td>\n",
              "      <td>NaN</td>\n",
              "      <td>NaN</td>\n",
              "      <td>NaN</td>\n",
              "      <td>211.242170</td>\n",
              "      <td>8.106</td>\n",
              "      <td>True</td>\n",
              "    </tr>\n",
              "    <tr>\n",
              "      <th>2</th>\n",
              "      <td>1</td>\n",
              "      <td>19/02/2010</td>\n",
              "      <td>39.93</td>\n",
              "      <td>2.514</td>\n",
              "      <td>NaN</td>\n",
              "      <td>NaN</td>\n",
              "      <td>NaN</td>\n",
              "      <td>NaN</td>\n",
              "      <td>NaN</td>\n",
              "      <td>211.289143</td>\n",
              "      <td>8.106</td>\n",
              "      <td>False</td>\n",
              "    </tr>\n",
              "    <tr>\n",
              "      <th>3</th>\n",
              "      <td>1</td>\n",
              "      <td>26/02/2010</td>\n",
              "      <td>46.63</td>\n",
              "      <td>2.561</td>\n",
              "      <td>NaN</td>\n",
              "      <td>NaN</td>\n",
              "      <td>NaN</td>\n",
              "      <td>NaN</td>\n",
              "      <td>NaN</td>\n",
              "      <td>211.319643</td>\n",
              "      <td>8.106</td>\n",
              "      <td>False</td>\n",
              "    </tr>\n",
              "    <tr>\n",
              "      <th>4</th>\n",
              "      <td>1</td>\n",
              "      <td>05/03/2010</td>\n",
              "      <td>46.50</td>\n",
              "      <td>2.625</td>\n",
              "      <td>NaN</td>\n",
              "      <td>NaN</td>\n",
              "      <td>NaN</td>\n",
              "      <td>NaN</td>\n",
              "      <td>NaN</td>\n",
              "      <td>211.350143</td>\n",
              "      <td>8.106</td>\n",
              "      <td>False</td>\n",
              "    </tr>\n",
              "  </tbody>\n",
              "</table>\n",
              "</div>"
            ],
            "text/plain": [
              "   Store        Date  Temperature  ...         CPI  Unemployment  IsHoliday\n",
              "0      1  05/02/2010        42.31  ...  211.096358         8.106      False\n",
              "1      1  12/02/2010        38.51  ...  211.242170         8.106       True\n",
              "2      1  19/02/2010        39.93  ...  211.289143         8.106      False\n",
              "3      1  26/02/2010        46.63  ...  211.319643         8.106      False\n",
              "4      1  05/03/2010        46.50  ...  211.350143         8.106      False\n",
              "\n",
              "[5 rows x 12 columns]"
            ]
          },
          "metadata": {},
          "execution_count": 5
        }
      ]
    },
    {
      "cell_type": "code",
      "metadata": {
        "colab": {
          "base_uri": "https://localhost:8080/"
        },
        "id": "i0wM_eef7_LJ",
        "outputId": "9301ca41-1cca-4dbd-83f9-3be0e60cf63e"
      },
      "source": [
        "factors.shape #оцениваем размер файла (строки, столбцы)"
      ],
      "execution_count": null,
      "outputs": [
        {
          "output_type": "execute_result",
          "data": {
            "text/plain": [
              "(8190, 12)"
            ]
          },
          "metadata": {},
          "execution_count": 6
        }
      ]
    },
    {
      "cell_type": "code",
      "metadata": {
        "colab": {
          "base_uri": "https://localhost:8080/"
        },
        "id": "tIj_x9yHI66B",
        "outputId": "6a77f879-f206-491d-b5bd-3e02fe943370"
      },
      "source": [
        "factors.columns #выводим список колонок файла"
      ],
      "execution_count": null,
      "outputs": [
        {
          "output_type": "execute_result",
          "data": {
            "text/plain": [
              "Index(['Store', 'Date', 'Temperature', 'Fuel_Price', 'MarkDown1', 'MarkDown2',\n",
              "       'MarkDown3', 'MarkDown4', 'MarkDown5', 'CPI', 'Unemployment',\n",
              "       'IsHoliday'],\n",
              "      dtype='object')"
            ]
          },
          "metadata": {},
          "execution_count": 7
        }
      ]
    },
    {
      "cell_type": "code",
      "metadata": {
        "colab": {
          "base_uri": "https://localhost:8080/"
        },
        "id": "98ozEWG1JJsw",
        "outputId": "cdac9ad2-bf8b-4518-d41d-82ff75fc418b"
      },
      "source": [
        "factors.dtypes #смотрим на типы каждой колонки файла "
      ],
      "execution_count": null,
      "outputs": [
        {
          "output_type": "execute_result",
          "data": {
            "text/plain": [
              "Store             int64\n",
              "Date             object\n",
              "Temperature     float64\n",
              "Fuel_Price      float64\n",
              "MarkDown1       float64\n",
              "MarkDown2       float64\n",
              "MarkDown3       float64\n",
              "MarkDown4       float64\n",
              "MarkDown5       float64\n",
              "CPI             float64\n",
              "Unemployment    float64\n",
              "IsHoliday          bool\n",
              "dtype: object"
            ]
          },
          "metadata": {},
          "execution_count": 8
        }
      ]
    },
    {
      "cell_type": "markdown",
      "metadata": {
        "id": "8De-j5AmKU09"
      },
      "source": [
        "## 1.2. Продажи.\n",
        "Рассмотрим файл с историей продаж исследуемой сети магазинов. Он записан в переменную sales."
      ]
    },
    {
      "cell_type": "code",
      "metadata": {
        "colab": {
          "base_uri": "https://localhost:8080/",
          "height": 206
        },
        "id": "Mqvyonyrpz6m",
        "outputId": "3ae8763f-b47c-4db8-949b-aac57f42db38"
      },
      "source": [
        "sales.head() #посмотрим визуально на первые пять строк данных"
      ],
      "execution_count": null,
      "outputs": [
        {
          "output_type": "execute_result",
          "data": {
            "text/html": [
              "<div>\n",
              "<style scoped>\n",
              "    .dataframe tbody tr th:only-of-type {\n",
              "        vertical-align: middle;\n",
              "    }\n",
              "\n",
              "    .dataframe tbody tr th {\n",
              "        vertical-align: top;\n",
              "    }\n",
              "\n",
              "    .dataframe thead th {\n",
              "        text-align: right;\n",
              "    }\n",
              "</style>\n",
              "<table border=\"1\" class=\"dataframe\">\n",
              "  <thead>\n",
              "    <tr style=\"text-align: right;\">\n",
              "      <th></th>\n",
              "      <th>Store</th>\n",
              "      <th>Dept</th>\n",
              "      <th>Date</th>\n",
              "      <th>Weekly_Sales</th>\n",
              "      <th>IsHoliday</th>\n",
              "    </tr>\n",
              "  </thead>\n",
              "  <tbody>\n",
              "    <tr>\n",
              "      <th>0</th>\n",
              "      <td>1</td>\n",
              "      <td>1</td>\n",
              "      <td>05/02/2010</td>\n",
              "      <td>24924.50</td>\n",
              "      <td>False</td>\n",
              "    </tr>\n",
              "    <tr>\n",
              "      <th>1</th>\n",
              "      <td>1</td>\n",
              "      <td>1</td>\n",
              "      <td>12/02/2010</td>\n",
              "      <td>46039.49</td>\n",
              "      <td>True</td>\n",
              "    </tr>\n",
              "    <tr>\n",
              "      <th>2</th>\n",
              "      <td>1</td>\n",
              "      <td>1</td>\n",
              "      <td>19/02/2010</td>\n",
              "      <td>41595.55</td>\n",
              "      <td>False</td>\n",
              "    </tr>\n",
              "    <tr>\n",
              "      <th>3</th>\n",
              "      <td>1</td>\n",
              "      <td>1</td>\n",
              "      <td>26/02/2010</td>\n",
              "      <td>19403.54</td>\n",
              "      <td>False</td>\n",
              "    </tr>\n",
              "    <tr>\n",
              "      <th>4</th>\n",
              "      <td>1</td>\n",
              "      <td>1</td>\n",
              "      <td>05/03/2010</td>\n",
              "      <td>21827.90</td>\n",
              "      <td>False</td>\n",
              "    </tr>\n",
              "  </tbody>\n",
              "</table>\n",
              "</div>"
            ],
            "text/plain": [
              "   Store  Dept        Date  Weekly_Sales  IsHoliday\n",
              "0      1     1  05/02/2010      24924.50      False\n",
              "1      1     1  12/02/2010      46039.49       True\n",
              "2      1     1  19/02/2010      41595.55      False\n",
              "3      1     1  26/02/2010      19403.54      False\n",
              "4      1     1  05/03/2010      21827.90      False"
            ]
          },
          "metadata": {},
          "execution_count": 9
        }
      ]
    },
    {
      "cell_type": "code",
      "metadata": {
        "colab": {
          "base_uri": "https://localhost:8080/"
        },
        "id": "o4gmvW3m8O6I",
        "outputId": "6b69f7dd-4e15-4e53-97b5-eb747af9586e"
      },
      "source": [
        "sales.shape #выведем данные о количестве строк и столбцов файла"
      ],
      "execution_count": null,
      "outputs": [
        {
          "output_type": "execute_result",
          "data": {
            "text/plain": [
              "(421570, 5)"
            ]
          },
          "metadata": {},
          "execution_count": 10
        }
      ]
    },
    {
      "cell_type": "code",
      "metadata": {
        "colab": {
          "base_uri": "https://localhost:8080/"
        },
        "id": "AmDl4HjVKuY9",
        "outputId": "7f551954-a726-4ae4-c187-691ccfff3670"
      },
      "source": [
        "sales.columns #выведем список наименований колонок файла"
      ],
      "execution_count": null,
      "outputs": [
        {
          "output_type": "execute_result",
          "data": {
            "text/plain": [
              "Index(['Store', 'Dept', 'Date', 'Weekly_Sales', 'IsHoliday'], dtype='object')"
            ]
          },
          "metadata": {},
          "execution_count": 11
        }
      ]
    },
    {
      "cell_type": "code",
      "metadata": {
        "colab": {
          "base_uri": "https://localhost:8080/"
        },
        "id": "Jce496QvK6jt",
        "outputId": "075d23d8-68ba-4789-ad92-ccb5e2e32e76"
      },
      "source": [
        "sales.dtypes #посмотрим на типы колонок файла"
      ],
      "execution_count": null,
      "outputs": [
        {
          "output_type": "execute_result",
          "data": {
            "text/plain": [
              "Store             int64\n",
              "Dept              int64\n",
              "Date             object\n",
              "Weekly_Sales    float64\n",
              "IsHoliday          bool\n",
              "dtype: object"
            ]
          },
          "metadata": {},
          "execution_count": 12
        }
      ]
    },
    {
      "cell_type": "markdown",
      "metadata": {
        "id": "kbZbSknFLf1A"
      },
      "source": [
        "## 1.3. Магазины.\n",
        "Рассмотрим последний файл, в котором содержится справочная информация о исследуемых магазинах. Он записан в переменную stores."
      ]
    },
    {
      "cell_type": "code",
      "metadata": {
        "colab": {
          "base_uri": "https://localhost:8080/",
          "height": 206
        },
        "id": "tTJQC6Pap5yu",
        "outputId": "fbe0567a-7202-43be-e60d-5e4b2bfa3c75"
      },
      "source": [
        "stores.head() #выведем первые пять строк датасета"
      ],
      "execution_count": null,
      "outputs": [
        {
          "output_type": "execute_result",
          "data": {
            "text/html": [
              "<div>\n",
              "<style scoped>\n",
              "    .dataframe tbody tr th:only-of-type {\n",
              "        vertical-align: middle;\n",
              "    }\n",
              "\n",
              "    .dataframe tbody tr th {\n",
              "        vertical-align: top;\n",
              "    }\n",
              "\n",
              "    .dataframe thead th {\n",
              "        text-align: right;\n",
              "    }\n",
              "</style>\n",
              "<table border=\"1\" class=\"dataframe\">\n",
              "  <thead>\n",
              "    <tr style=\"text-align: right;\">\n",
              "      <th></th>\n",
              "      <th>Store</th>\n",
              "      <th>Type</th>\n",
              "      <th>Size</th>\n",
              "    </tr>\n",
              "  </thead>\n",
              "  <tbody>\n",
              "    <tr>\n",
              "      <th>0</th>\n",
              "      <td>1</td>\n",
              "      <td>A</td>\n",
              "      <td>151315</td>\n",
              "    </tr>\n",
              "    <tr>\n",
              "      <th>1</th>\n",
              "      <td>2</td>\n",
              "      <td>A</td>\n",
              "      <td>202307</td>\n",
              "    </tr>\n",
              "    <tr>\n",
              "      <th>2</th>\n",
              "      <td>3</td>\n",
              "      <td>B</td>\n",
              "      <td>37392</td>\n",
              "    </tr>\n",
              "    <tr>\n",
              "      <th>3</th>\n",
              "      <td>4</td>\n",
              "      <td>A</td>\n",
              "      <td>205863</td>\n",
              "    </tr>\n",
              "    <tr>\n",
              "      <th>4</th>\n",
              "      <td>5</td>\n",
              "      <td>B</td>\n",
              "      <td>34875</td>\n",
              "    </tr>\n",
              "  </tbody>\n",
              "</table>\n",
              "</div>"
            ],
            "text/plain": [
              "   Store Type    Size\n",
              "0      1    A  151315\n",
              "1      2    A  202307\n",
              "2      3    B   37392\n",
              "3      4    A  205863\n",
              "4      5    B   34875"
            ]
          },
          "metadata": {},
          "execution_count": 13
        }
      ]
    },
    {
      "cell_type": "code",
      "metadata": {
        "colab": {
          "base_uri": "https://localhost:8080/"
        },
        "id": "9dWB2fa68xbK",
        "outputId": "7bef9590-e2c6-46fc-b802-8d759c9f1828"
      },
      "source": [
        "stores.shape #оценим размер датасета (строк, столбцов) "
      ],
      "execution_count": null,
      "outputs": [
        {
          "output_type": "execute_result",
          "data": {
            "text/plain": [
              "(45, 3)"
            ]
          },
          "metadata": {},
          "execution_count": 14
        }
      ]
    },
    {
      "cell_type": "code",
      "metadata": {
        "colab": {
          "base_uri": "https://localhost:8080/"
        },
        "id": "2ZHS6cvXMIdo",
        "outputId": "18ba2de9-fb1c-4d5c-e501-56e4b9ea9aae"
      },
      "source": [
        "stores.columns #выведем перечень наименований колонок файла"
      ],
      "execution_count": null,
      "outputs": [
        {
          "output_type": "execute_result",
          "data": {
            "text/plain": [
              "Index(['Store', 'Type', 'Size'], dtype='object')"
            ]
          },
          "metadata": {},
          "execution_count": 15
        }
      ]
    },
    {
      "cell_type": "code",
      "metadata": {
        "colab": {
          "base_uri": "https://localhost:8080/"
        },
        "id": "hDqc4TDOMT4y",
        "outputId": "48d1face-2e19-4ff0-ff85-44a9d3ff68cd"
      },
      "source": [
        "stores.dtypes #посмотрим на типы данных колонок файла"
      ],
      "execution_count": null,
      "outputs": [
        {
          "output_type": "execute_result",
          "data": {
            "text/plain": [
              "Store     int64\n",
              "Type     object\n",
              "Size      int64\n",
              "dtype: object"
            ]
          },
          "metadata": {},
          "execution_count": 16
        }
      ]
    },
    {
      "cell_type": "markdown",
      "metadata": {
        "id": "lHYhrzI-IGZo"
      },
      "source": [
        "# 2. Изучение, подготовка данных"
      ]
    },
    {
      "cell_type": "markdown",
      "metadata": {
        "id": "DpB-mCQWISUs"
      },
      "source": [
        "На данном этапе произведем подробное изучение каждого датасета, проверим их на пропуски, ошибки, выбросы. Проведем проверку на пропуски, обогащение данными, очистку, замену, удаление ненужной информации и т.д."
      ]
    },
    {
      "cell_type": "markdown",
      "metadata": {
        "id": "QdofKrB0rHvu"
      },
      "source": [
        "## 2.1. Факторы."
      ]
    },
    {
      "cell_type": "markdown",
      "metadata": {
        "id": "R5RVFEBN16x4"
      },
      "source": [
        "Рассмотрим основные характеристики датасета factors"
      ]
    },
    {
      "cell_type": "code",
      "metadata": {
        "colab": {
          "base_uri": "https://localhost:8080/",
          "height": 300
        },
        "id": "2RpBSoE315bp",
        "outputId": "b3bfd38c-9dc2-4085-c016-6cd177f7f9d0"
      },
      "source": [
        "factors.describe()"
      ],
      "execution_count": null,
      "outputs": [
        {
          "output_type": "execute_result",
          "data": {
            "text/html": [
              "<div>\n",
              "<style scoped>\n",
              "    .dataframe tbody tr th:only-of-type {\n",
              "        vertical-align: middle;\n",
              "    }\n",
              "\n",
              "    .dataframe tbody tr th {\n",
              "        vertical-align: top;\n",
              "    }\n",
              "\n",
              "    .dataframe thead th {\n",
              "        text-align: right;\n",
              "    }\n",
              "</style>\n",
              "<table border=\"1\" class=\"dataframe\">\n",
              "  <thead>\n",
              "    <tr style=\"text-align: right;\">\n",
              "      <th></th>\n",
              "      <th>Store</th>\n",
              "      <th>Temperature</th>\n",
              "      <th>Fuel_Price</th>\n",
              "      <th>MarkDown1</th>\n",
              "      <th>MarkDown2</th>\n",
              "      <th>MarkDown3</th>\n",
              "      <th>MarkDown4</th>\n",
              "      <th>MarkDown5</th>\n",
              "      <th>CPI</th>\n",
              "      <th>Unemployment</th>\n",
              "    </tr>\n",
              "  </thead>\n",
              "  <tbody>\n",
              "    <tr>\n",
              "      <th>count</th>\n",
              "      <td>8190.000000</td>\n",
              "      <td>8190.000000</td>\n",
              "      <td>8190.000000</td>\n",
              "      <td>4032.000000</td>\n",
              "      <td>2921.000000</td>\n",
              "      <td>3613.000000</td>\n",
              "      <td>3464.000000</td>\n",
              "      <td>4050.000000</td>\n",
              "      <td>7605.000000</td>\n",
              "      <td>7605.000000</td>\n",
              "    </tr>\n",
              "    <tr>\n",
              "      <th>mean</th>\n",
              "      <td>23.000000</td>\n",
              "      <td>59.356198</td>\n",
              "      <td>3.405992</td>\n",
              "      <td>7032.371786</td>\n",
              "      <td>3384.176594</td>\n",
              "      <td>1760.100180</td>\n",
              "      <td>3292.935886</td>\n",
              "      <td>4132.216422</td>\n",
              "      <td>172.460809</td>\n",
              "      <td>7.826821</td>\n",
              "    </tr>\n",
              "    <tr>\n",
              "      <th>std</th>\n",
              "      <td>12.987966</td>\n",
              "      <td>18.678607</td>\n",
              "      <td>0.431337</td>\n",
              "      <td>9262.747448</td>\n",
              "      <td>8793.583016</td>\n",
              "      <td>11276.462208</td>\n",
              "      <td>6792.329861</td>\n",
              "      <td>13086.690278</td>\n",
              "      <td>39.738346</td>\n",
              "      <td>1.877259</td>\n",
              "    </tr>\n",
              "    <tr>\n",
              "      <th>min</th>\n",
              "      <td>1.000000</td>\n",
              "      <td>-7.290000</td>\n",
              "      <td>2.472000</td>\n",
              "      <td>-2781.450000</td>\n",
              "      <td>-265.760000</td>\n",
              "      <td>-179.260000</td>\n",
              "      <td>0.220000</td>\n",
              "      <td>-185.170000</td>\n",
              "      <td>126.064000</td>\n",
              "      <td>3.684000</td>\n",
              "    </tr>\n",
              "    <tr>\n",
              "      <th>25%</th>\n",
              "      <td>12.000000</td>\n",
              "      <td>45.902500</td>\n",
              "      <td>3.041000</td>\n",
              "      <td>1577.532500</td>\n",
              "      <td>68.880000</td>\n",
              "      <td>6.600000</td>\n",
              "      <td>304.687500</td>\n",
              "      <td>1440.827500</td>\n",
              "      <td>132.364839</td>\n",
              "      <td>6.634000</td>\n",
              "    </tr>\n",
              "    <tr>\n",
              "      <th>50%</th>\n",
              "      <td>23.000000</td>\n",
              "      <td>60.710000</td>\n",
              "      <td>3.513000</td>\n",
              "      <td>4743.580000</td>\n",
              "      <td>364.570000</td>\n",
              "      <td>36.260000</td>\n",
              "      <td>1176.425000</td>\n",
              "      <td>2727.135000</td>\n",
              "      <td>182.764003</td>\n",
              "      <td>7.806000</td>\n",
              "    </tr>\n",
              "    <tr>\n",
              "      <th>75%</th>\n",
              "      <td>34.000000</td>\n",
              "      <td>73.880000</td>\n",
              "      <td>3.743000</td>\n",
              "      <td>8923.310000</td>\n",
              "      <td>2153.350000</td>\n",
              "      <td>163.150000</td>\n",
              "      <td>3310.007500</td>\n",
              "      <td>4832.555000</td>\n",
              "      <td>213.932412</td>\n",
              "      <td>8.567000</td>\n",
              "    </tr>\n",
              "    <tr>\n",
              "      <th>max</th>\n",
              "      <td>45.000000</td>\n",
              "      <td>101.950000</td>\n",
              "      <td>4.468000</td>\n",
              "      <td>103184.980000</td>\n",
              "      <td>104519.540000</td>\n",
              "      <td>149483.310000</td>\n",
              "      <td>67474.850000</td>\n",
              "      <td>771448.100000</td>\n",
              "      <td>228.976456</td>\n",
              "      <td>14.313000</td>\n",
              "    </tr>\n",
              "  </tbody>\n",
              "</table>\n",
              "</div>"
            ],
            "text/plain": [
              "             Store  Temperature  ...          CPI  Unemployment\n",
              "count  8190.000000  8190.000000  ...  7605.000000   7605.000000\n",
              "mean     23.000000    59.356198  ...   172.460809      7.826821\n",
              "std      12.987966    18.678607  ...    39.738346      1.877259\n",
              "min       1.000000    -7.290000  ...   126.064000      3.684000\n",
              "25%      12.000000    45.902500  ...   132.364839      6.634000\n",
              "50%      23.000000    60.710000  ...   182.764003      7.806000\n",
              "75%      34.000000    73.880000  ...   213.932412      8.567000\n",
              "max      45.000000   101.950000  ...   228.976456     14.313000\n",
              "\n",
              "[8 rows x 10 columns]"
            ]
          },
          "metadata": {},
          "execution_count": 17
        }
      ]
    },
    {
      "cell_type": "code",
      "metadata": {
        "colab": {
          "base_uri": "https://localhost:8080/"
        },
        "id": "J7ylT0C62LoP",
        "outputId": "8185fa29-cee7-4e77-ceea-40ac753d393f"
      },
      "source": [
        "factors.info()"
      ],
      "execution_count": null,
      "outputs": [
        {
          "output_type": "stream",
          "name": "stdout",
          "text": [
            "<class 'pandas.core.frame.DataFrame'>\n",
            "RangeIndex: 8190 entries, 0 to 8189\n",
            "Data columns (total 12 columns):\n",
            " #   Column        Non-Null Count  Dtype  \n",
            "---  ------        --------------  -----  \n",
            " 0   Store         8190 non-null   int64  \n",
            " 1   Date          8190 non-null   object \n",
            " 2   Temperature   8190 non-null   float64\n",
            " 3   Fuel_Price    8190 non-null   float64\n",
            " 4   MarkDown1     4032 non-null   float64\n",
            " 5   MarkDown2     2921 non-null   float64\n",
            " 6   MarkDown3     3613 non-null   float64\n",
            " 7   MarkDown4     3464 non-null   float64\n",
            " 8   MarkDown5     4050 non-null   float64\n",
            " 9   CPI           7605 non-null   float64\n",
            " 10  Unemployment  7605 non-null   float64\n",
            " 11  IsHoliday     8190 non-null   bool   \n",
            "dtypes: bool(1), float64(9), int64(1), object(1)\n",
            "memory usage: 712.0+ KB\n"
          ]
        }
      ]
    },
    {
      "cell_type": "markdown",
      "metadata": {
        "id": "RkqOCIPBrzgd"
      },
      "source": [
        "Видим, что имеются пропущенные значения. Исследуем датасет с факторами на предмет пропусков. Для этого сначала построим с помощью пакета визуализации seaborn тепловую карту. "
      ]
    },
    {
      "cell_type": "code",
      "metadata": {
        "id": "Wpy2sDG8UfYL",
        "colab": {
          "base_uri": "https://localhost:8080/",
          "height": 354
        },
        "outputId": "63036d0b-2d55-44fd-b5b8-ce9db0f5814d"
      },
      "source": [
        "import seaborn as sns\n",
        "colours = ['#000099', '#ffff00'] \n",
        "sns.heatmap(factors.isnull(), cmap=sns.color_palette(colours))"
      ],
      "execution_count": null,
      "outputs": [
        {
          "output_type": "execute_result",
          "data": {
            "text/plain": [
              "<matplotlib.axes._subplots.AxesSubplot at 0x7f17883df550>"
            ]
          },
          "metadata": {},
          "execution_count": 19
        },
        {
          "output_type": "display_data",
          "data": {
            "image/png": "[encoded data removed]",
            "text/plain": [
              "<Figure size 432x288 with 2 Axes>"
            ]
          },
          "metadata": {
            "needs_background": "light"
          }
        }
      ]
    },
    {
      "cell_type": "markdown",
      "metadata": {
        "id": "Dlv3WA8ar2NI"
      },
      "source": [
        "Видим, что отсутствующие значения имеются в большом количестве в столбцах с информацией о скидках (MarkDown1 - 5), также есть небольшое количество отсутствующих значений в столбцах с информацией об индексе потребительских цен (CPI) и информацией об уровне безработицы (Unemployment). Посчитаем пропуски в процентах:"
      ]
    },
    {
      "cell_type": "code",
      "metadata": {
        "colab": {
          "base_uri": "https://localhost:8080/"
        },
        "id": "gIkEWv_fxNIx",
        "outputId": "403ab04b-7669-41cd-fcc6-1464e15ee2c7"
      },
      "source": [
        "(factors.isna().mean()*100).round(2)"
      ],
      "execution_count": null,
      "outputs": [
        {
          "output_type": "execute_result",
          "data": {
            "text/plain": [
              "Store            0.00\n",
              "Date             0.00\n",
              "Temperature      0.00\n",
              "Fuel_Price       0.00\n",
              "MarkDown1       50.77\n",
              "MarkDown2       64.33\n",
              "MarkDown3       55.89\n",
              "MarkDown4       57.70\n",
              "MarkDown5       50.55\n",
              "CPI              7.14\n",
              "Unemployment     7.14\n",
              "IsHoliday        0.00\n",
              "dtype: float64"
            ]
          },
          "metadata": {},
          "execution_count": 20
        }
      ]
    },
    {
      "cell_type": "markdown",
      "metadata": {
        "id": "ggtJA_hlCcmr"
      },
      "source": [
        "Теперь посчитаем пропуски в абсолютном значении:"
      ]
    },
    {
      "cell_type": "code",
      "metadata": {
        "colab": {
          "base_uri": "https://localhost:8080/"
        },
        "id": "8pWPXgnHChYo",
        "outputId": "eaee83fc-ace8-47a9-e5ab-be756a2f44f8"
      },
      "source": [
        "factors.isna().sum()"
      ],
      "execution_count": null,
      "outputs": [
        {
          "output_type": "execute_result",
          "data": {
            "text/plain": [
              "Store              0\n",
              "Date               0\n",
              "Temperature        0\n",
              "Fuel_Price         0\n",
              "MarkDown1       4158\n",
              "MarkDown2       5269\n",
              "MarkDown3       4577\n",
              "MarkDown4       4726\n",
              "MarkDown5       4140\n",
              "CPI              585\n",
              "Unemployment     585\n",
              "IsHoliday          0\n",
              "dtype: int64"
            ]
          },
          "metadata": {},
          "execution_count": 21
        }
      ]
    },
    {
      "cell_type": "markdown",
      "metadata": {
        "id": "BYL4ngfICBY7"
      },
      "source": [
        "Сначала поработаем со столбцами, которые содержат информацию о скидках. Из описания датасета: \"MarkDown1-5 - анонимные данные, связанные с рекламными скидками. Данные MarkDown доступны только после ноября 2011 г. и доступны не для всех магазинов постоянно. Любое отсутствующее значение отмечается NA.\" В связи с тем, что много данных отсутствует, а ценность заполненных представляется сомнительной, уберем эти столбцы из анализируемого датасета"
      ]
    },
    {
      "cell_type": "code",
      "metadata": {
        "id": "HQ7rGGcRBvG8"
      },
      "source": [
        "factors = factors[['Store', 'Date', 'Temperature', 'Fuel_Price', 'CPI', 'Unemployment', 'IsHoliday']]"
      ],
      "execution_count": null,
      "outputs": []
    },
    {
      "cell_type": "markdown",
      "metadata": {
        "id": "D_O-7IVFCNPp"
      },
      "source": [
        "Теперь в датасете остаются пропуски в столбцах с информацией об индексе потребительских цен и уровне безработицы. Предполагаем, что такие показатели не меняются кардинально в короткий промежуток времени и заменим пропуски предыдущим значением показателя. "
      ]
    },
    {
      "cell_type": "markdown",
      "metadata": {
        "id": "4yNFcPZ9LKDK"
      },
      "source": [
        "Также перед этим произведем теперь замену типа данных в столбце Date (на дату) и в столбце Store (на строку, т.к. это категориальный признак). "
      ]
    },
    {
      "cell_type": "code",
      "metadata": {
        "id": "7XR6XLXoIpLP"
      },
      "source": [
        "factors['Date'] = pd.to_datetime(factors['Date'], dayfirst=True) \n",
        "factors['Store'] = factors['Store'].astype(str)"
      ],
      "execution_count": null,
      "outputs": []
    },
    {
      "cell_type": "code",
      "metadata": {
        "id": "z4nXi7GcQsjJ"
      },
      "source": [
        "# отсортируем данные по магазину и дате\n",
        "factors.sort_values(['Store', 'Date'], inplace = True)\n",
        "# заменим пропущенные значения на предыдущее значение\n",
        "factors['CPI'].fillna(method = 'backfill', inplace=True)\n",
        "factors['Unemployment'].fillna(method = 'backfill', inplace=True)"
      ],
      "execution_count": null,
      "outputs": []
    },
    {
      "cell_type": "code",
      "metadata": {
        "colab": {
          "base_uri": "https://localhost:8080/"
        },
        "id": "-h1tadZ7xNOl",
        "outputId": "d7e141a9-ad3b-4dc7-aa0a-78f42343b526"
      },
      "source": [
        "# factors.isna().sum()\n",
        "factors.isna().sum()"
      ],
      "execution_count": null,
      "outputs": [
        {
          "output_type": "execute_result",
          "data": {
            "text/plain": [
              "Store            0\n",
              "Date             0\n",
              "Temperature      0\n",
              "Fuel_Price       0\n",
              "CPI             13\n",
              "Unemployment    13\n",
              "IsHoliday        0\n",
              "dtype: int64"
            ]
          },
          "metadata": {},
          "execution_count": 25
        }
      ]
    },
    {
      "cell_type": "markdown",
      "metadata": {
        "id": "doAlTLeUQWK_"
      },
      "source": [
        "Остались незаполненные значения по ИПЦ и безработице, заполним их следующим значением."
      ]
    },
    {
      "cell_type": "code",
      "metadata": {
        "id": "Bg8cPU8lQgCK"
      },
      "source": [
        "factors['CPI'].fillna(method = 'ffill', inplace=True)\n",
        "factors['Unemployment'].fillna(method = 'ffill', inplace=True)"
      ],
      "execution_count": null,
      "outputs": []
    },
    {
      "cell_type": "code",
      "metadata": {
        "colab": {
          "base_uri": "https://localhost:8080/"
        },
        "id": "KXOASVxuQnU8",
        "outputId": "f2b5f274-801a-48f3-cb47-60ec3feaface"
      },
      "source": [
        "factors.isna().sum()"
      ],
      "execution_count": null,
      "outputs": [
        {
          "output_type": "execute_result",
          "data": {
            "text/plain": [
              "Store           0\n",
              "Date            0\n",
              "Temperature     0\n",
              "Fuel_Price      0\n",
              "CPI             0\n",
              "Unemployment    0\n",
              "IsHoliday       0\n",
              "dtype: int64"
            ]
          },
          "metadata": {},
          "execution_count": 27
        }
      ]
    },
    {
      "cell_type": "code",
      "metadata": {
        "id": "zXMgI5iAJLmB"
      },
      "source": [
        "factors.reset_index(drop=True, inplace=True)"
      ],
      "execution_count": null,
      "outputs": []
    },
    {
      "cell_type": "code",
      "metadata": {
        "colab": {
          "base_uri": "https://localhost:8080/",
          "height": 206
        },
        "id": "NVHk0qXfJX4B",
        "outputId": "3895f4d9-c017-469f-aecb-502bf23e126c"
      },
      "source": [
        "factors.head()"
      ],
      "execution_count": null,
      "outputs": [
        {
          "output_type": "execute_result",
          "data": {
            "text/html": [
              "<div>\n",
              "<style scoped>\n",
              "    .dataframe tbody tr th:only-of-type {\n",
              "        vertical-align: middle;\n",
              "    }\n",
              "\n",
              "    .dataframe tbody tr th {\n",
              "        vertical-align: top;\n",
              "    }\n",
              "\n",
              "    .dataframe thead th {\n",
              "        text-align: right;\n",
              "    }\n",
              "</style>\n",
              "<table border=\"1\" class=\"dataframe\">\n",
              "  <thead>\n",
              "    <tr style=\"text-align: right;\">\n",
              "      <th></th>\n",
              "      <th>Store</th>\n",
              "      <th>Date</th>\n",
              "      <th>Temperature</th>\n",
              "      <th>Fuel_Price</th>\n",
              "      <th>CPI</th>\n",
              "      <th>Unemployment</th>\n",
              "      <th>IsHoliday</th>\n",
              "    </tr>\n",
              "  </thead>\n",
              "  <tbody>\n",
              "    <tr>\n",
              "      <th>0</th>\n",
              "      <td>1</td>\n",
              "      <td>2010-02-05</td>\n",
              "      <td>42.31</td>\n",
              "      <td>2.572</td>\n",
              "      <td>211.096358</td>\n",
              "      <td>8.106</td>\n",
              "      <td>False</td>\n",
              "    </tr>\n",
              "    <tr>\n",
              "      <th>1</th>\n",
              "      <td>1</td>\n",
              "      <td>2010-02-12</td>\n",
              "      <td>38.51</td>\n",
              "      <td>2.548</td>\n",
              "      <td>211.242170</td>\n",
              "      <td>8.106</td>\n",
              "      <td>True</td>\n",
              "    </tr>\n",
              "    <tr>\n",
              "      <th>2</th>\n",
              "      <td>1</td>\n",
              "      <td>2010-02-19</td>\n",
              "      <td>39.93</td>\n",
              "      <td>2.514</td>\n",
              "      <td>211.289143</td>\n",
              "      <td>8.106</td>\n",
              "      <td>False</td>\n",
              "    </tr>\n",
              "    <tr>\n",
              "      <th>3</th>\n",
              "      <td>1</td>\n",
              "      <td>2010-02-26</td>\n",
              "      <td>46.63</td>\n",
              "      <td>2.561</td>\n",
              "      <td>211.319643</td>\n",
              "      <td>8.106</td>\n",
              "      <td>False</td>\n",
              "    </tr>\n",
              "    <tr>\n",
              "      <th>4</th>\n",
              "      <td>1</td>\n",
              "      <td>2010-03-05</td>\n",
              "      <td>46.50</td>\n",
              "      <td>2.625</td>\n",
              "      <td>211.350143</td>\n",
              "      <td>8.106</td>\n",
              "      <td>False</td>\n",
              "    </tr>\n",
              "  </tbody>\n",
              "</table>\n",
              "</div>"
            ],
            "text/plain": [
              "  Store       Date  Temperature  ...         CPI  Unemployment  IsHoliday\n",
              "0     1 2010-02-05        42.31  ...  211.096358         8.106      False\n",
              "1     1 2010-02-12        38.51  ...  211.242170         8.106       True\n",
              "2     1 2010-02-19        39.93  ...  211.289143         8.106      False\n",
              "3     1 2010-02-26        46.63  ...  211.319643         8.106      False\n",
              "4     1 2010-03-05        46.50  ...  211.350143         8.106      False\n",
              "\n",
              "[5 rows x 7 columns]"
            ]
          },
          "metadata": {},
          "execution_count": 29
        }
      ]
    },
    {
      "cell_type": "code",
      "metadata": {
        "colab": {
          "base_uri": "https://localhost:8080/"
        },
        "id": "yVIhk3FqK6HT",
        "outputId": "a1a88225-3035-4531-9430-352b7e9e1e0c"
      },
      "source": [
        "factors.dtypes"
      ],
      "execution_count": null,
      "outputs": [
        {
          "output_type": "execute_result",
          "data": {
            "text/plain": [
              "Store                   object\n",
              "Date            datetime64[ns]\n",
              "Temperature            float64\n",
              "Fuel_Price             float64\n",
              "CPI                    float64\n",
              "Unemployment           float64\n",
              "IsHoliday                 bool\n",
              "dtype: object"
            ]
          },
          "metadata": {},
          "execution_count": 30
        }
      ]
    },
    {
      "cell_type": "markdown",
      "metadata": {
        "id": "HpNo75Qo7zo9"
      },
      "source": [
        "Датафрейм готов к дальнейшей работе."
      ]
    },
    {
      "cell_type": "markdown",
      "metadata": {
        "id": "X8u-i6gMLkst"
      },
      "source": [
        "## 2.2 Продажи."
      ]
    },
    {
      "cell_type": "markdown",
      "metadata": {
        "id": "H-U_-Izr74lF"
      },
      "source": [
        "Рассмотрим более подробно датасет с данными по продажам."
      ]
    },
    {
      "cell_type": "code",
      "metadata": {
        "colab": {
          "base_uri": "https://localhost:8080/"
        },
        "id": "LBhWd46vLuSf",
        "outputId": "868f1ef9-6759-46eb-af33-a6f967c91991"
      },
      "source": [
        "sales.info()"
      ],
      "execution_count": null,
      "outputs": [
        {
          "output_type": "stream",
          "name": "stdout",
          "text": [
            "<class 'pandas.core.frame.DataFrame'>\n",
            "RangeIndex: 421570 entries, 0 to 421569\n",
            "Data columns (total 5 columns):\n",
            " #   Column        Non-Null Count   Dtype  \n",
            "---  ------        --------------   -----  \n",
            " 0   Store         421570 non-null  int64  \n",
            " 1   Dept          421570 non-null  int64  \n",
            " 2   Date          421570 non-null  object \n",
            " 3   Weekly_Sales  421570 non-null  float64\n",
            " 4   IsHoliday     421570 non-null  bool   \n",
            "dtypes: bool(1), float64(1), int64(2), object(1)\n",
            "memory usage: 13.3+ MB\n"
          ]
        }
      ]
    },
    {
      "cell_type": "code",
      "metadata": {
        "colab": {
          "base_uri": "https://localhost:8080/",
          "height": 300
        },
        "id": "0KcaoAvkLueQ",
        "outputId": "fd42aeb8-16c6-4c62-8f0e-3ef8cc71a480"
      },
      "source": [
        "sales.describe()"
      ],
      "execution_count": null,
      "outputs": [
        {
          "output_type": "execute_result",
          "data": {
            "text/html": [
              "<div>\n",
              "<style scoped>\n",
              "    .dataframe tbody tr th:only-of-type {\n",
              "        vertical-align: middle;\n",
              "    }\n",
              "\n",
              "    .dataframe tbody tr th {\n",
              "        vertical-align: top;\n",
              "    }\n",
              "\n",
              "    .dataframe thead th {\n",
              "        text-align: right;\n",
              "    }\n",
              "</style>\n",
              "<table border=\"1\" class=\"dataframe\">\n",
              "  <thead>\n",
              "    <tr style=\"text-align: right;\">\n",
              "      <th></th>\n",
              "      <th>Store</th>\n",
              "      <th>Dept</th>\n",
              "      <th>Weekly_Sales</th>\n",
              "    </tr>\n",
              "  </thead>\n",
              "  <tbody>\n",
              "    <tr>\n",
              "      <th>count</th>\n",
              "      <td>421570.000000</td>\n",
              "      <td>421570.000000</td>\n",
              "      <td>421570.000000</td>\n",
              "    </tr>\n",
              "    <tr>\n",
              "      <th>mean</th>\n",
              "      <td>22.200546</td>\n",
              "      <td>44.260317</td>\n",
              "      <td>15981.258123</td>\n",
              "    </tr>\n",
              "    <tr>\n",
              "      <th>std</th>\n",
              "      <td>12.785297</td>\n",
              "      <td>30.492054</td>\n",
              "      <td>22711.183519</td>\n",
              "    </tr>\n",
              "    <tr>\n",
              "      <th>min</th>\n",
              "      <td>1.000000</td>\n",
              "      <td>1.000000</td>\n",
              "      <td>-4988.940000</td>\n",
              "    </tr>\n",
              "    <tr>\n",
              "      <th>25%</th>\n",
              "      <td>11.000000</td>\n",
              "      <td>18.000000</td>\n",
              "      <td>2079.650000</td>\n",
              "    </tr>\n",
              "    <tr>\n",
              "      <th>50%</th>\n",
              "      <td>22.000000</td>\n",
              "      <td>37.000000</td>\n",
              "      <td>7612.030000</td>\n",
              "    </tr>\n",
              "    <tr>\n",
              "      <th>75%</th>\n",
              "      <td>33.000000</td>\n",
              "      <td>74.000000</td>\n",
              "      <td>20205.852500</td>\n",
              "    </tr>\n",
              "    <tr>\n",
              "      <th>max</th>\n",
              "      <td>45.000000</td>\n",
              "      <td>99.000000</td>\n",
              "      <td>693099.360000</td>\n",
              "    </tr>\n",
              "  </tbody>\n",
              "</table>\n",
              "</div>"
            ],
            "text/plain": [
              "               Store           Dept   Weekly_Sales\n",
              "count  421570.000000  421570.000000  421570.000000\n",
              "mean       22.200546      44.260317   15981.258123\n",
              "std        12.785297      30.492054   22711.183519\n",
              "min         1.000000       1.000000   -4988.940000\n",
              "25%        11.000000      18.000000    2079.650000\n",
              "50%        22.000000      37.000000    7612.030000\n",
              "75%        33.000000      74.000000   20205.852500\n",
              "max        45.000000      99.000000  693099.360000"
            ]
          },
          "metadata": {},
          "execution_count": 32
        }
      ]
    },
    {
      "cell_type": "markdown",
      "metadata": {
        "id": "qbsHReSl8SWN"
      },
      "source": [
        "Для начала переведем колонку Date в тип данных дата, а колонку Store в строковый тип, как сделали это с датасетом факторов."
      ]
    },
    {
      "cell_type": "code",
      "metadata": {
        "id": "fJDsQUU8Lupu"
      },
      "source": [
        "sales['Date'] = pd.to_datetime(sales['Date'], dayfirst=True) \n",
        "sales['Store'] = sales['Store'].astype(str)"
      ],
      "execution_count": null,
      "outputs": []
    },
    {
      "cell_type": "markdown",
      "metadata": {
        "id": "ooiHxXD385yR"
      },
      "source": [
        "Теперь рассмотрим более подробно данные по объемам продаж. В сводной информации были замечены отрицательные значения, это вызывает вопросы. Посмотрим визуализацию \"ящик с усами\" и гистограмму распределения значений."
      ]
    },
    {
      "cell_type": "code",
      "metadata": {
        "colab": {
          "base_uri": "https://localhost:8080/",
          "height": 283
        },
        "id": "7mIUAbxy9gtG",
        "outputId": "2b7e850e-fa38-4b4a-aeec-cd1b287db2e1"
      },
      "source": [
        "import matplotlib.pyplot as plt\n",
        "sales.boxplot(column='Weekly_Sales')"
      ],
      "execution_count": null,
      "outputs": [
        {
          "output_type": "execute_result",
          "data": {
            "text/plain": [
              "<matplotlib.axes._subplots.AxesSubplot at 0x7f177d089450>"
            ]
          },
          "metadata": {},
          "execution_count": 34
        },
        {
          "output_type": "display_data",
          "data": {
            "image/png": "[encoded data removed]",
            "text/plain": [
              "<Figure size 432x288 with 1 Axes>"
            ]
          },
          "metadata": {
            "needs_background": "light"
          }
        }
      ]
    },
    {
      "cell_type": "code",
      "metadata": {
        "colab": {
          "base_uri": "https://localhost:8080/",
          "height": 316
        },
        "id": "djRGA9_M-Ar-",
        "outputId": "58544c00-78a2-4a5a-bb29-fd12aa724490"
      },
      "source": [
        "sales.hist(column='Weekly_Sales', bins=20)"
      ],
      "execution_count": null,
      "outputs": [
        {
          "output_type": "execute_result",
          "data": {
            "text/plain": [
              "array([[<matplotlib.axes._subplots.AxesSubplot object at 0x7f177d005d50>]],\n",
              "      dtype=object)"
            ]
          },
          "metadata": {},
          "execution_count": 35
        },
        {
          "output_type": "display_data",
          "data": {
            "image/png": "[encoded data removed]",
            "text/plain": [
              "<Figure size 432x288 with 1 Axes>"
            ]
          },
          "metadata": {
            "needs_background": "light"
          }
        }
      ]
    },
    {
      "cell_type": "markdown",
      "metadata": {
        "id": "zskwgTHe-iEH"
      },
      "source": [
        "Более подробно рассмотрим присутствующие отрицательные значения. Видимо, это возвраты товара."
      ]
    },
    {
      "cell_type": "code",
      "metadata": {
        "colab": {
          "base_uri": "https://localhost:8080/"
        },
        "id": "cm6LC6PN-pIP",
        "outputId": "927bcc66-4142-45e9-e8b4-2c1ff764af0e"
      },
      "source": [
        "sales[sales['Weekly_Sales']<0].count()"
      ],
      "execution_count": null,
      "outputs": [
        {
          "output_type": "execute_result",
          "data": {
            "text/plain": [
              "Store           1285\n",
              "Dept            1285\n",
              "Date            1285\n",
              "Weekly_Sales    1285\n",
              "IsHoliday       1285\n",
              "dtype: int64"
            ]
          },
          "metadata": {},
          "execution_count": 36
        }
      ]
    },
    {
      "cell_type": "markdown",
      "metadata": {
        "id": "dUJ7PFlRAD68"
      },
      "source": [
        "Также проверим наличие нулевых значений в продажах."
      ]
    },
    {
      "cell_type": "code",
      "metadata": {
        "colab": {
          "base_uri": "https://localhost:8080/"
        },
        "id": "Pbzz6mz5AJRi",
        "outputId": "c68f77b5-1af0-44a3-f214-628c21f918b0"
      },
      "source": [
        "sales[sales['Weekly_Sales']==0].count()"
      ],
      "execution_count": null,
      "outputs": [
        {
          "output_type": "execute_result",
          "data": {
            "text/plain": [
              "Store           73\n",
              "Dept            73\n",
              "Date            73\n",
              "Weekly_Sales    73\n",
              "IsHoliday       73\n",
              "dtype: int64"
            ]
          },
          "metadata": {},
          "execution_count": 37
        }
      ]
    },
    {
      "cell_type": "markdown",
      "metadata": {
        "id": "K-j3vC4QCtT8"
      },
      "source": [
        "Чтобы не искажать данные, оставим в датафрейме только строки с ненулевыми и положительными значениями продаж."
      ]
    },
    {
      "cell_type": "code",
      "metadata": {
        "colab": {
          "base_uri": "https://localhost:8080/"
        },
        "id": "s1Wdk3V2ElKu",
        "outputId": "057cc52d-e560-4549-f075-03d221b31a3a"
      },
      "source": [
        "sales.shape"
      ],
      "execution_count": null,
      "outputs": [
        {
          "output_type": "execute_result",
          "data": {
            "text/plain": [
              "(421570, 5)"
            ]
          },
          "metadata": {},
          "execution_count": 38
        }
      ]
    },
    {
      "cell_type": "code",
      "metadata": {
        "id": "AJm81wsvC1Bu"
      },
      "source": [
        "sales = sales[sales['Weekly_Sales'] >0]"
      ],
      "execution_count": null,
      "outputs": []
    },
    {
      "cell_type": "code",
      "metadata": {
        "colab": {
          "base_uri": "https://localhost:8080/"
        },
        "id": "ral6GbjhF-6_",
        "outputId": "a30cfcfe-a806-4a23-c877-ef9eaadff3a7"
      },
      "source": [
        "sales.shape"
      ],
      "execution_count": null,
      "outputs": [
        {
          "output_type": "execute_result",
          "data": {
            "text/plain": [
              "(420212, 5)"
            ]
          },
          "metadata": {},
          "execution_count": 40
        }
      ]
    },
    {
      "cell_type": "code",
      "metadata": {
        "colab": {
          "base_uri": "https://localhost:8080/",
          "height": 300
        },
        "id": "4y4u8TVtDW4E",
        "outputId": "b28d6b95-5213-4608-f107-9280107e539a"
      },
      "source": [
        "sales.describe()"
      ],
      "execution_count": null,
      "outputs": [
        {
          "output_type": "execute_result",
          "data": {
            "text/html": [
              "<div>\n",
              "<style scoped>\n",
              "    .dataframe tbody tr th:only-of-type {\n",
              "        vertical-align: middle;\n",
              "    }\n",
              "\n",
              "    .dataframe tbody tr th {\n",
              "        vertical-align: top;\n",
              "    }\n",
              "\n",
              "    .dataframe thead th {\n",
              "        text-align: right;\n",
              "    }\n",
              "</style>\n",
              "<table border=\"1\" class=\"dataframe\">\n",
              "  <thead>\n",
              "    <tr style=\"text-align: right;\">\n",
              "      <th></th>\n",
              "      <th>Dept</th>\n",
              "      <th>Weekly_Sales</th>\n",
              "    </tr>\n",
              "  </thead>\n",
              "  <tbody>\n",
              "    <tr>\n",
              "      <th>count</th>\n",
              "      <td>420212.000000</td>\n",
              "      <td>420212.000000</td>\n",
              "    </tr>\n",
              "    <tr>\n",
              "      <th>mean</th>\n",
              "      <td>44.241309</td>\n",
              "      <td>16033.114591</td>\n",
              "    </tr>\n",
              "    <tr>\n",
              "      <th>std</th>\n",
              "      <td>30.508819</td>\n",
              "      <td>22729.492116</td>\n",
              "    </tr>\n",
              "    <tr>\n",
              "      <th>min</th>\n",
              "      <td>1.000000</td>\n",
              "      <td>0.010000</td>\n",
              "    </tr>\n",
              "    <tr>\n",
              "      <th>25%</th>\n",
              "      <td>18.000000</td>\n",
              "      <td>2120.130000</td>\n",
              "    </tr>\n",
              "    <tr>\n",
              "      <th>50%</th>\n",
              "      <td>37.000000</td>\n",
              "      <td>7661.700000</td>\n",
              "    </tr>\n",
              "    <tr>\n",
              "      <th>75%</th>\n",
              "      <td>74.000000</td>\n",
              "      <td>20271.265000</td>\n",
              "    </tr>\n",
              "    <tr>\n",
              "      <th>max</th>\n",
              "      <td>99.000000</td>\n",
              "      <td>693099.360000</td>\n",
              "    </tr>\n",
              "  </tbody>\n",
              "</table>\n",
              "</div>"
            ],
            "text/plain": [
              "                Dept   Weekly_Sales\n",
              "count  420212.000000  420212.000000\n",
              "mean       44.241309   16033.114591\n",
              "std        30.508819   22729.492116\n",
              "min         1.000000       0.010000\n",
              "25%        18.000000    2120.130000\n",
              "50%        37.000000    7661.700000\n",
              "75%        74.000000   20271.265000\n",
              "max        99.000000  693099.360000"
            ]
          },
          "metadata": {},
          "execution_count": 41
        }
      ]
    },
    {
      "cell_type": "markdown",
      "metadata": {
        "id": "A55R1WMHGKMg"
      },
      "source": [
        "Данный датафрейм также готов к дальнейшей работе."
      ]
    },
    {
      "cell_type": "markdown",
      "metadata": {
        "id": "b3ZUQoZYGWVs"
      },
      "source": [
        "## 2.3 Магазины"
      ]
    },
    {
      "cell_type": "markdown",
      "metadata": {
        "id": "RGQi3X66Ga0r"
      },
      "source": [
        "Проверим последний датафрейм, содержащий дополнительную информацию о магазинах. "
      ]
    },
    {
      "cell_type": "code",
      "metadata": {
        "colab": {
          "base_uri": "https://localhost:8080/"
        },
        "id": "QkPhlYY3GkNT",
        "outputId": "660a195c-1557-4d09-add2-ab689f94459b"
      },
      "source": [
        "stores.info()"
      ],
      "execution_count": null,
      "outputs": [
        {
          "output_type": "stream",
          "name": "stdout",
          "text": [
            "<class 'pandas.core.frame.DataFrame'>\n",
            "RangeIndex: 45 entries, 0 to 44\n",
            "Data columns (total 3 columns):\n",
            " #   Column  Non-Null Count  Dtype \n",
            "---  ------  --------------  ----- \n",
            " 0   Store   45 non-null     int64 \n",
            " 1   Type    45 non-null     object\n",
            " 2   Size    45 non-null     int64 \n",
            "dtypes: int64(2), object(1)\n",
            "memory usage: 1.2+ KB\n"
          ]
        }
      ]
    },
    {
      "cell_type": "code",
      "metadata": {
        "colab": {
          "base_uri": "https://localhost:8080/",
          "height": 300
        },
        "id": "pVrYsxOYGrEt",
        "outputId": "712247ad-fed3-4978-f2c6-70ff83b64a7c"
      },
      "source": [
        "stores.describe()"
      ],
      "execution_count": null,
      "outputs": [
        {
          "output_type": "execute_result",
          "data": {
            "text/html": [
              "<div>\n",
              "<style scoped>\n",
              "    .dataframe tbody tr th:only-of-type {\n",
              "        vertical-align: middle;\n",
              "    }\n",
              "\n",
              "    .dataframe tbody tr th {\n",
              "        vertical-align: top;\n",
              "    }\n",
              "\n",
              "    .dataframe thead th {\n",
              "        text-align: right;\n",
              "    }\n",
              "</style>\n",
              "<table border=\"1\" class=\"dataframe\">\n",
              "  <thead>\n",
              "    <tr style=\"text-align: right;\">\n",
              "      <th></th>\n",
              "      <th>Store</th>\n",
              "      <th>Size</th>\n",
              "    </tr>\n",
              "  </thead>\n",
              "  <tbody>\n",
              "    <tr>\n",
              "      <th>count</th>\n",
              "      <td>45.000000</td>\n",
              "      <td>45.000000</td>\n",
              "    </tr>\n",
              "    <tr>\n",
              "      <th>mean</th>\n",
              "      <td>23.000000</td>\n",
              "      <td>130287.600000</td>\n",
              "    </tr>\n",
              "    <tr>\n",
              "      <th>std</th>\n",
              "      <td>13.133926</td>\n",
              "      <td>63825.271991</td>\n",
              "    </tr>\n",
              "    <tr>\n",
              "      <th>min</th>\n",
              "      <td>1.000000</td>\n",
              "      <td>34875.000000</td>\n",
              "    </tr>\n",
              "    <tr>\n",
              "      <th>25%</th>\n",
              "      <td>12.000000</td>\n",
              "      <td>70713.000000</td>\n",
              "    </tr>\n",
              "    <tr>\n",
              "      <th>50%</th>\n",
              "      <td>23.000000</td>\n",
              "      <td>126512.000000</td>\n",
              "    </tr>\n",
              "    <tr>\n",
              "      <th>75%</th>\n",
              "      <td>34.000000</td>\n",
              "      <td>202307.000000</td>\n",
              "    </tr>\n",
              "    <tr>\n",
              "      <th>max</th>\n",
              "      <td>45.000000</td>\n",
              "      <td>219622.000000</td>\n",
              "    </tr>\n",
              "  </tbody>\n",
              "</table>\n",
              "</div>"
            ],
            "text/plain": [
              "           Store           Size\n",
              "count  45.000000      45.000000\n",
              "mean   23.000000  130287.600000\n",
              "std    13.133926   63825.271991\n",
              "min     1.000000   34875.000000\n",
              "25%    12.000000   70713.000000\n",
              "50%    23.000000  126512.000000\n",
              "75%    34.000000  202307.000000\n",
              "max    45.000000  219622.000000"
            ]
          },
          "metadata": {},
          "execution_count": 43
        }
      ]
    },
    {
      "cell_type": "markdown",
      "metadata": {
        "id": "1drUDXbTGwR7"
      },
      "source": [
        "Как видим, датафрейм содержит только 45 строк, по числу магазинов, составляющих анализируемую торговую сеть. Столбец Type заполнен полностью, здесь вопросов нет. Столбец Size также без нулевых и отрицательных значений. Для дальнейшей работы поменяем только тип данных в столбце Store на строковый."
      ]
    },
    {
      "cell_type": "code",
      "metadata": {
        "id": "dwkmvGWGJcV9"
      },
      "source": [
        "stores['Store'] = stores['Store'].astype(str)"
      ],
      "execution_count": null,
      "outputs": []
    },
    {
      "cell_type": "markdown",
      "metadata": {
        "id": "w47Z6_kIDh3c"
      },
      "source": [
        "# 3.  Подготовка данных к построению модели."
      ]
    },
    {
      "cell_type": "markdown",
      "metadata": {
        "id": "hmDNAON6DtUD"
      },
      "source": [
        "Для дальнейшей работы необходимо подготовить данные, чтобы они были пригодны к обучению модели. Для начала обогатим датафрейм с продажами информацией о дополнительных факторах, а также данными о характеристиках магазинов."
      ]
    },
    {
      "cell_type": "code",
      "metadata": {
        "id": "G-xlN2blJibb"
      },
      "source": [
        "sales_factors = pd.merge(sales, factors, on=['Store','Date'], how='left') #добавим в датасет с продажами информацию о дополнительных факторах из датасета factors"
      ],
      "execution_count": null,
      "outputs": []
    },
    {
      "cell_type": "code",
      "metadata": {
        "colab": {
          "base_uri": "https://localhost:8080/",
          "height": 206
        },
        "id": "rfZP9FK0JifR",
        "outputId": "ad43ce96-204c-4094-f19a-d72bff5252bd"
      },
      "source": [
        "sales_factors.head()"
      ],
      "execution_count": null,
      "outputs": [
        {
          "output_type": "execute_result",
          "data": {
            "text/html": [
              "<div>\n",
              "<style scoped>\n",
              "    .dataframe tbody tr th:only-of-type {\n",
              "        vertical-align: middle;\n",
              "    }\n",
              "\n",
              "    .dataframe tbody tr th {\n",
              "        vertical-align: top;\n",
              "    }\n",
              "\n",
              "    .dataframe thead th {\n",
              "        text-align: right;\n",
              "    }\n",
              "</style>\n",
              "<table border=\"1\" class=\"dataframe\">\n",
              "  <thead>\n",
              "    <tr style=\"text-align: right;\">\n",
              "      <th></th>\n",
              "      <th>Store</th>\n",
              "      <th>Dept</th>\n",
              "      <th>Date</th>\n",
              "      <th>Weekly_Sales</th>\n",
              "      <th>IsHoliday_x</th>\n",
              "      <th>Temperature</th>\n",
              "      <th>Fuel_Price</th>\n",
              "      <th>CPI</th>\n",
              "      <th>Unemployment</th>\n",
              "      <th>IsHoliday_y</th>\n",
              "    </tr>\n",
              "  </thead>\n",
              "  <tbody>\n",
              "    <tr>\n",
              "      <th>0</th>\n",
              "      <td>1</td>\n",
              "      <td>1</td>\n",
              "      <td>2010-02-05</td>\n",
              "      <td>24924.50</td>\n",
              "      <td>False</td>\n",
              "      <td>42.31</td>\n",
              "      <td>2.572</td>\n",
              "      <td>211.096358</td>\n",
              "      <td>8.106</td>\n",
              "      <td>False</td>\n",
              "    </tr>\n",
              "    <tr>\n",
              "      <th>1</th>\n",
              "      <td>1</td>\n",
              "      <td>1</td>\n",
              "      <td>2010-02-12</td>\n",
              "      <td>46039.49</td>\n",
              "      <td>True</td>\n",
              "      <td>38.51</td>\n",
              "      <td>2.548</td>\n",
              "      <td>211.242170</td>\n",
              "      <td>8.106</td>\n",
              "      <td>True</td>\n",
              "    </tr>\n",
              "    <tr>\n",
              "      <th>2</th>\n",
              "      <td>1</td>\n",
              "      <td>1</td>\n",
              "      <td>2010-02-19</td>\n",
              "      <td>41595.55</td>\n",
              "      <td>False</td>\n",
              "      <td>39.93</td>\n",
              "      <td>2.514</td>\n",
              "      <td>211.289143</td>\n",
              "      <td>8.106</td>\n",
              "      <td>False</td>\n",
              "    </tr>\n",
              "    <tr>\n",
              "      <th>3</th>\n",
              "      <td>1</td>\n",
              "      <td>1</td>\n",
              "      <td>2010-02-26</td>\n",
              "      <td>19403.54</td>\n",
              "      <td>False</td>\n",
              "      <td>46.63</td>\n",
              "      <td>2.561</td>\n",
              "      <td>211.319643</td>\n",
              "      <td>8.106</td>\n",
              "      <td>False</td>\n",
              "    </tr>\n",
              "    <tr>\n",
              "      <th>4</th>\n",
              "      <td>1</td>\n",
              "      <td>1</td>\n",
              "      <td>2010-03-05</td>\n",
              "      <td>21827.90</td>\n",
              "      <td>False</td>\n",
              "      <td>46.50</td>\n",
              "      <td>2.625</td>\n",
              "      <td>211.350143</td>\n",
              "      <td>8.106</td>\n",
              "      <td>False</td>\n",
              "    </tr>\n",
              "  </tbody>\n",
              "</table>\n",
              "</div>"
            ],
            "text/plain": [
              "  Store  Dept       Date  ...         CPI  Unemployment  IsHoliday_y\n",
              "0     1     1 2010-02-05  ...  211.096358         8.106        False\n",
              "1     1     1 2010-02-12  ...  211.242170         8.106         True\n",
              "2     1     1 2010-02-19  ...  211.289143         8.106        False\n",
              "3     1     1 2010-02-26  ...  211.319643         8.106        False\n",
              "4     1     1 2010-03-05  ...  211.350143         8.106        False\n",
              "\n",
              "[5 rows x 10 columns]"
            ]
          },
          "metadata": {},
          "execution_count": 46
        }
      ]
    },
    {
      "cell_type": "code",
      "metadata": {
        "id": "_7XVK8cFJijW"
      },
      "source": [
        "final_df = pd.merge(sales_factors, stores, on =['Store'], how = 'left')  # обогатим промежуточный датафрейм информацией о типе и размере каждого из 45 магазинов"
      ],
      "execution_count": null,
      "outputs": []
    },
    {
      "cell_type": "code",
      "metadata": {
        "colab": {
          "base_uri": "https://localhost:8080/",
          "height": 206
        },
        "id": "hw6HPbLBIri7",
        "outputId": "36cdd2df-73cd-4bfe-f98f-df45b1119aee"
      },
      "source": [
        "final_df.head()"
      ],
      "execution_count": null,
      "outputs": [
        {
          "output_type": "execute_result",
          "data": {
            "text/html": [
              "<div>\n",
              "<style scoped>\n",
              "    .dataframe tbody tr th:only-of-type {\n",
              "        vertical-align: middle;\n",
              "    }\n",
              "\n",
              "    .dataframe tbody tr th {\n",
              "        vertical-align: top;\n",
              "    }\n",
              "\n",
              "    .dataframe thead th {\n",
              "        text-align: right;\n",
              "    }\n",
              "</style>\n",
              "<table border=\"1\" class=\"dataframe\">\n",
              "  <thead>\n",
              "    <tr style=\"text-align: right;\">\n",
              "      <th></th>\n",
              "      <th>Store</th>\n",
              "      <th>Dept</th>\n",
              "      <th>Date</th>\n",
              "      <th>Weekly_Sales</th>\n",
              "      <th>IsHoliday_x</th>\n",
              "      <th>Temperature</th>\n",
              "      <th>Fuel_Price</th>\n",
              "      <th>CPI</th>\n",
              "      <th>Unemployment</th>\n",
              "      <th>IsHoliday_y</th>\n",
              "      <th>Type</th>\n",
              "      <th>Size</th>\n",
              "    </tr>\n",
              "  </thead>\n",
              "  <tbody>\n",
              "    <tr>\n",
              "      <th>0</th>\n",
              "      <td>1</td>\n",
              "      <td>1</td>\n",
              "      <td>2010-02-05</td>\n",
              "      <td>24924.50</td>\n",
              "      <td>False</td>\n",
              "      <td>42.31</td>\n",
              "      <td>2.572</td>\n",
              "      <td>211.096358</td>\n",
              "      <td>8.106</td>\n",
              "      <td>False</td>\n",
              "      <td>A</td>\n",
              "      <td>151315</td>\n",
              "    </tr>\n",
              "    <tr>\n",
              "      <th>1</th>\n",
              "      <td>1</td>\n",
              "      <td>1</td>\n",
              "      <td>2010-02-12</td>\n",
              "      <td>46039.49</td>\n",
              "      <td>True</td>\n",
              "      <td>38.51</td>\n",
              "      <td>2.548</td>\n",
              "      <td>211.242170</td>\n",
              "      <td>8.106</td>\n",
              "      <td>True</td>\n",
              "      <td>A</td>\n",
              "      <td>151315</td>\n",
              "    </tr>\n",
              "    <tr>\n",
              "      <th>2</th>\n",
              "      <td>1</td>\n",
              "      <td>1</td>\n",
              "      <td>2010-02-19</td>\n",
              "      <td>41595.55</td>\n",
              "      <td>False</td>\n",
              "      <td>39.93</td>\n",
              "      <td>2.514</td>\n",
              "      <td>211.289143</td>\n",
              "      <td>8.106</td>\n",
              "      <td>False</td>\n",
              "      <td>A</td>\n",
              "      <td>151315</td>\n",
              "    </tr>\n",
              "    <tr>\n",
              "      <th>3</th>\n",
              "      <td>1</td>\n",
              "      <td>1</td>\n",
              "      <td>2010-02-26</td>\n",
              "      <td>19403.54</td>\n",
              "      <td>False</td>\n",
              "      <td>46.63</td>\n",
              "      <td>2.561</td>\n",
              "      <td>211.319643</td>\n",
              "      <td>8.106</td>\n",
              "      <td>False</td>\n",
              "      <td>A</td>\n",
              "      <td>151315</td>\n",
              "    </tr>\n",
              "    <tr>\n",
              "      <th>4</th>\n",
              "      <td>1</td>\n",
              "      <td>1</td>\n",
              "      <td>2010-03-05</td>\n",
              "      <td>21827.90</td>\n",
              "      <td>False</td>\n",
              "      <td>46.50</td>\n",
              "      <td>2.625</td>\n",
              "      <td>211.350143</td>\n",
              "      <td>8.106</td>\n",
              "      <td>False</td>\n",
              "      <td>A</td>\n",
              "      <td>151315</td>\n",
              "    </tr>\n",
              "  </tbody>\n",
              "</table>\n",
              "</div>"
            ],
            "text/plain": [
              "  Store  Dept       Date  Weekly_Sales  ...  Unemployment  IsHoliday_y  Type    Size\n",
              "0     1     1 2010-02-05      24924.50  ...         8.106        False     A  151315\n",
              "1     1     1 2010-02-12      46039.49  ...         8.106         True     A  151315\n",
              "2     1     1 2010-02-19      41595.55  ...         8.106        False     A  151315\n",
              "3     1     1 2010-02-26      19403.54  ...         8.106        False     A  151315\n",
              "4     1     1 2010-03-05      21827.90  ...         8.106        False     A  151315\n",
              "\n",
              "[5 rows x 12 columns]"
            ]
          },
          "metadata": {},
          "execution_count": 48
        }
      ]
    },
    {
      "cell_type": "code",
      "metadata": {
        "colab": {
          "base_uri": "https://localhost:8080/"
        },
        "id": "CV99iQZbI-E8",
        "outputId": "77d6cbce-8c3b-4574-f3fb-48654a5de9a3"
      },
      "source": [
        "final_df.shape"
      ],
      "execution_count": null,
      "outputs": [
        {
          "output_type": "execute_result",
          "data": {
            "text/plain": [
              "(420212, 12)"
            ]
          },
          "metadata": {},
          "execution_count": 49
        }
      ]
    },
    {
      "cell_type": "markdown",
      "metadata": {
        "id": "6KyvkEyjJDPo"
      },
      "source": [
        "Теперрь необходимо из столбца с датой выделить признаки - число, месяц, год, день недели, чтобы использовать их в обучении модели. Создадим соответсвующие дополнительные столбцы."
      ]
    },
    {
      "cell_type": "code",
      "metadata": {
        "colab": {
          "base_uri": "https://localhost:8080/"
        },
        "id": "rWuh9zMnJCbm",
        "outputId": "68841ebf-e10e-46ad-8ee1-e90a71a1824b"
      },
      "source": [
        "final_df['weekday'] = final_df['Date'].dt.weekday\n",
        "final_df['year'] = final_df['Date'].dt.year\n",
        "final_df['month'] = final_df['Date'].dt.month\n",
        "final_df['day'] = final_df['Date'].dt.day\n",
        "final_df['week'] = final_df['Date'].dt.week"
      ],
      "execution_count": null,
      "outputs": [
        {
          "output_type": "stream",
          "name": "stderr",
          "text": [
            "/usr/local/lib/python3.7/dist-packages/ipykernel_launcher.py:5: FutureWarning: Series.dt.weekofyear and Series.dt.week have been deprecated.  Please use Series.dt.isocalendar().week instead.\n",
            "  \"\"\"\n"
          ]
        }
      ]
    },
    {
      "cell_type": "code",
      "metadata": {
        "colab": {
          "base_uri": "https://localhost:8080/",
          "height": 206
        },
        "id": "WQPya-1gKx2o",
        "outputId": "1cf57c8b-5dcd-45b0-d5cd-7e6af65cb1a0"
      },
      "source": [
        "final_df.head()"
      ],
      "execution_count": null,
      "outputs": [
        {
          "output_type": "execute_result",
          "data": {
            "text/html": [
              "<div>\n",
              "<style scoped>\n",
              "    .dataframe tbody tr th:only-of-type {\n",
              "        vertical-align: middle;\n",
              "    }\n",
              "\n",
              "    .dataframe tbody tr th {\n",
              "        vertical-align: top;\n",
              "    }\n",
              "\n",
              "    .dataframe thead th {\n",
              "        text-align: right;\n",
              "    }\n",
              "</style>\n",
              "<table border=\"1\" class=\"dataframe\">\n",
              "  <thead>\n",
              "    <tr style=\"text-align: right;\">\n",
              "      <th></th>\n",
              "      <th>Store</th>\n",
              "      <th>Dept</th>\n",
              "      <th>Date</th>\n",
              "      <th>Weekly_Sales</th>\n",
              "      <th>IsHoliday_x</th>\n",
              "      <th>Temperature</th>\n",
              "      <th>Fuel_Price</th>\n",
              "      <th>CPI</th>\n",
              "      <th>Unemployment</th>\n",
              "      <th>IsHoliday_y</th>\n",
              "      <th>Type</th>\n",
              "      <th>Size</th>\n",
              "      <th>weekday</th>\n",
              "      <th>year</th>\n",
              "      <th>month</th>\n",
              "      <th>day</th>\n",
              "      <th>week</th>\n",
              "    </tr>\n",
              "  </thead>\n",
              "  <tbody>\n",
              "    <tr>\n",
              "      <th>0</th>\n",
              "      <td>1</td>\n",
              "      <td>1</td>\n",
              "      <td>2010-02-05</td>\n",
              "      <td>24924.50</td>\n",
              "      <td>False</td>\n",
              "      <td>42.31</td>\n",
              "      <td>2.572</td>\n",
              "      <td>211.096358</td>\n",
              "      <td>8.106</td>\n",
              "      <td>False</td>\n",
              "      <td>A</td>\n",
              "      <td>151315</td>\n",
              "      <td>4</td>\n",
              "      <td>2010</td>\n",
              "      <td>2</td>\n",
              "      <td>5</td>\n",
              "      <td>5</td>\n",
              "    </tr>\n",
              "    <tr>\n",
              "      <th>1</th>\n",
              "      <td>1</td>\n",
              "      <td>1</td>\n",
              "      <td>2010-02-12</td>\n",
              "      <td>46039.49</td>\n",
              "      <td>True</td>\n",
              "      <td>38.51</td>\n",
              "      <td>2.548</td>\n",
              "      <td>211.242170</td>\n",
              "      <td>8.106</td>\n",
              "      <td>True</td>\n",
              "      <td>A</td>\n",
              "      <td>151315</td>\n",
              "      <td>4</td>\n",
              "      <td>2010</td>\n",
              "      <td>2</td>\n",
              "      <td>12</td>\n",
              "      <td>6</td>\n",
              "    </tr>\n",
              "    <tr>\n",
              "      <th>2</th>\n",
              "      <td>1</td>\n",
              "      <td>1</td>\n",
              "      <td>2010-02-19</td>\n",
              "      <td>41595.55</td>\n",
              "      <td>False</td>\n",
              "      <td>39.93</td>\n",
              "      <td>2.514</td>\n",
              "      <td>211.289143</td>\n",
              "      <td>8.106</td>\n",
              "      <td>False</td>\n",
              "      <td>A</td>\n",
              "      <td>151315</td>\n",
              "      <td>4</td>\n",
              "      <td>2010</td>\n",
              "      <td>2</td>\n",
              "      <td>19</td>\n",
              "      <td>7</td>\n",
              "    </tr>\n",
              "    <tr>\n",
              "      <th>3</th>\n",
              "      <td>1</td>\n",
              "      <td>1</td>\n",
              "      <td>2010-02-26</td>\n",
              "      <td>19403.54</td>\n",
              "      <td>False</td>\n",
              "      <td>46.63</td>\n",
              "      <td>2.561</td>\n",
              "      <td>211.319643</td>\n",
              "      <td>8.106</td>\n",
              "      <td>False</td>\n",
              "      <td>A</td>\n",
              "      <td>151315</td>\n",
              "      <td>4</td>\n",
              "      <td>2010</td>\n",
              "      <td>2</td>\n",
              "      <td>26</td>\n",
              "      <td>8</td>\n",
              "    </tr>\n",
              "    <tr>\n",
              "      <th>4</th>\n",
              "      <td>1</td>\n",
              "      <td>1</td>\n",
              "      <td>2010-03-05</td>\n",
              "      <td>21827.90</td>\n",
              "      <td>False</td>\n",
              "      <td>46.50</td>\n",
              "      <td>2.625</td>\n",
              "      <td>211.350143</td>\n",
              "      <td>8.106</td>\n",
              "      <td>False</td>\n",
              "      <td>A</td>\n",
              "      <td>151315</td>\n",
              "      <td>4</td>\n",
              "      <td>2010</td>\n",
              "      <td>3</td>\n",
              "      <td>5</td>\n",
              "      <td>9</td>\n",
              "    </tr>\n",
              "  </tbody>\n",
              "</table>\n",
              "</div>"
            ],
            "text/plain": [
              "  Store  Dept       Date  Weekly_Sales  ...  year  month  day  week\n",
              "0     1     1 2010-02-05      24924.50  ...  2010      2    5     5\n",
              "1     1     1 2010-02-12      46039.49  ...  2010      2   12     6\n",
              "2     1     1 2010-02-19      41595.55  ...  2010      2   19     7\n",
              "3     1     1 2010-02-26      19403.54  ...  2010      2   26     8\n",
              "4     1     1 2010-03-05      21827.90  ...  2010      3    5     9\n",
              "\n",
              "[5 rows x 17 columns]"
            ]
          },
          "metadata": {},
          "execution_count": 51
        }
      ]
    },
    {
      "cell_type": "code",
      "metadata": {
        "id": "o4698BAmZ7Mr"
      },
      "source": [
        "#сохраним датафрейм в файл csv для работ по построению дашборда в стороннем приложении (tableau)\n",
        "# final_df.to_csv('sales.csv', encoding='utf-8', index=False)"
      ],
      "execution_count": null,
      "outputs": []
    },
    {
      "cell_type": "code",
      "metadata": {
        "colab": {
          "base_uri": "https://localhost:8080/"
        },
        "id": "jkF0Owd8vLx3",
        "outputId": "6a680d94-7d09-4132-b2cd-c6a7226cca3a"
      },
      "source": [
        "final_df['weekday'].unique()"
      ],
      "execution_count": null,
      "outputs": [
        {
          "output_type": "execute_result",
          "data": {
            "text/plain": [
              "array([4])"
            ]
          },
          "metadata": {},
          "execution_count": 53
        }
      ]
    },
    {
      "cell_type": "markdown",
      "metadata": {
        "id": "z0wkdqdUvWop"
      },
      "source": [
        "Как видим, все даты приходятся на один день недели, поэтому данную колонку weekday нет смысла использовать в качестве фактора.\n",
        "Также колонки IsHoliday_x\tи IsHoliday_y дублируют друг друга, можно убрать одну из набора данных для построения модели. Использовать в факторах год и день также необоснованно."
      ]
    },
    {
      "cell_type": "code",
      "metadata": {
        "colab": {
          "base_uri": "https://localhost:8080/"
        },
        "id": "bfhBBYE7v9Go",
        "outputId": "24008eda-eea6-4778-d8a2-46e5e898c0e3"
      },
      "source": [
        "final_df.columns"
      ],
      "execution_count": null,
      "outputs": [
        {
          "output_type": "execute_result",
          "data": {
            "text/plain": [
              "Index(['Store', 'Dept', 'Date', 'Weekly_Sales', 'IsHoliday_x', 'Temperature',\n",
              "       'Fuel_Price', 'CPI', 'Unemployment', 'IsHoliday_y', 'Type', 'Size',\n",
              "       'weekday', 'year', 'month', 'day', 'week'],\n",
              "      dtype='object')"
            ]
          },
          "metadata": {},
          "execution_count": 54
        }
      ]
    },
    {
      "cell_type": "code",
      "metadata": {
        "colab": {
          "base_uri": "https://localhost:8080/"
        },
        "id": "nDM5ldG1z1l4",
        "outputId": "bdb58f34-d934-43cc-f092-eab9653a511d"
      },
      "source": [
        "final_df.dtypes"
      ],
      "execution_count": null,
      "outputs": [
        {
          "output_type": "execute_result",
          "data": {
            "text/plain": [
              "Store                   object\n",
              "Dept                     int64\n",
              "Date            datetime64[ns]\n",
              "Weekly_Sales           float64\n",
              "IsHoliday_x               bool\n",
              "Temperature            float64\n",
              "Fuel_Price             float64\n",
              "CPI                    float64\n",
              "Unemployment           float64\n",
              "IsHoliday_y               bool\n",
              "Type                    object\n",
              "Size                     int64\n",
              "weekday                  int64\n",
              "year                     int64\n",
              "month                    int64\n",
              "day                      int64\n",
              "week                     int64\n",
              "dtype: object"
            ]
          },
          "metadata": {},
          "execution_count": 55
        }
      ]
    },
    {
      "cell_type": "markdown",
      "metadata": {
        "id": "v32lE55o0E3U"
      },
      "source": [
        "Переведем категориальные столбцы в строковый тип."
      ]
    },
    {
      "cell_type": "code",
      "metadata": {
        "id": "14iQJkdUz811"
      },
      "source": [
        "final_df['Dept'] = final_df['Dept'].astype(str)\n",
        "final_df['month'] = final_df['month'].astype(str)\n",
        "final_df['week'] = final_df['week'].astype(str)\n",
        "final_df['IsHoliday_x'] = final_df['IsHoliday_x'].astype(str)"
      ],
      "execution_count": null,
      "outputs": []
    },
    {
      "cell_type": "code",
      "metadata": {
        "id": "wGgrYScPwBSZ"
      },
      "source": [
        "final_df = final_df[['Store', 'Dept', 'Weekly_Sales', 'IsHoliday_x', 'Temperature',\n",
        "       'Fuel_Price', 'CPI', 'Unemployment', 'Type', 'Size',\n",
        "       'month', 'week']]"
      ],
      "execution_count": null,
      "outputs": []
    },
    {
      "cell_type": "code",
      "metadata": {
        "colab": {
          "base_uri": "https://localhost:8080/",
          "height": 206
        },
        "id": "Fxr2fohgZOEi",
        "outputId": "4fc36180-e062-452d-9cf0-5eeb6716d4a8"
      },
      "source": [
        "final_df1 = final_df.drop('week', 1)\n",
        "final_df1.head()"
      ],
      "execution_count": null,
      "outputs": [
        {
          "output_type": "execute_result",
          "data": {
            "text/html": [
              "<div>\n",
              "<style scoped>\n",
              "    .dataframe tbody tr th:only-of-type {\n",
              "        vertical-align: middle;\n",
              "    }\n",
              "\n",
              "    .dataframe tbody tr th {\n",
              "        vertical-align: top;\n",
              "    }\n",
              "\n",
              "    .dataframe thead th {\n",
              "        text-align: right;\n",
              "    }\n",
              "</style>\n",
              "<table border=\"1\" class=\"dataframe\">\n",
              "  <thead>\n",
              "    <tr style=\"text-align: right;\">\n",
              "      <th></th>\n",
              "      <th>Store</th>\n",
              "      <th>Dept</th>\n",
              "      <th>Weekly_Sales</th>\n",
              "      <th>IsHoliday_x</th>\n",
              "      <th>Temperature</th>\n",
              "      <th>Fuel_Price</th>\n",
              "      <th>CPI</th>\n",
              "      <th>Unemployment</th>\n",
              "      <th>Type</th>\n",
              "      <th>Size</th>\n",
              "      <th>month</th>\n",
              "    </tr>\n",
              "  </thead>\n",
              "  <tbody>\n",
              "    <tr>\n",
              "      <th>0</th>\n",
              "      <td>1</td>\n",
              "      <td>1</td>\n",
              "      <td>24924.50</td>\n",
              "      <td>False</td>\n",
              "      <td>42.31</td>\n",
              "      <td>2.572</td>\n",
              "      <td>211.096358</td>\n",
              "      <td>8.106</td>\n",
              "      <td>A</td>\n",
              "      <td>151315</td>\n",
              "      <td>2</td>\n",
              "    </tr>\n",
              "    <tr>\n",
              "      <th>1</th>\n",
              "      <td>1</td>\n",
              "      <td>1</td>\n",
              "      <td>46039.49</td>\n",
              "      <td>True</td>\n",
              "      <td>38.51</td>\n",
              "      <td>2.548</td>\n",
              "      <td>211.242170</td>\n",
              "      <td>8.106</td>\n",
              "      <td>A</td>\n",
              "      <td>151315</td>\n",
              "      <td>2</td>\n",
              "    </tr>\n",
              "    <tr>\n",
              "      <th>2</th>\n",
              "      <td>1</td>\n",
              "      <td>1</td>\n",
              "      <td>41595.55</td>\n",
              "      <td>False</td>\n",
              "      <td>39.93</td>\n",
              "      <td>2.514</td>\n",
              "      <td>211.289143</td>\n",
              "      <td>8.106</td>\n",
              "      <td>A</td>\n",
              "      <td>151315</td>\n",
              "      <td>2</td>\n",
              "    </tr>\n",
              "    <tr>\n",
              "      <th>3</th>\n",
              "      <td>1</td>\n",
              "      <td>1</td>\n",
              "      <td>19403.54</td>\n",
              "      <td>False</td>\n",
              "      <td>46.63</td>\n",
              "      <td>2.561</td>\n",
              "      <td>211.319643</td>\n",
              "      <td>8.106</td>\n",
              "      <td>A</td>\n",
              "      <td>151315</td>\n",
              "      <td>2</td>\n",
              "    </tr>\n",
              "    <tr>\n",
              "      <th>4</th>\n",
              "      <td>1</td>\n",
              "      <td>1</td>\n",
              "      <td>21827.90</td>\n",
              "      <td>False</td>\n",
              "      <td>46.50</td>\n",
              "      <td>2.625</td>\n",
              "      <td>211.350143</td>\n",
              "      <td>8.106</td>\n",
              "      <td>A</td>\n",
              "      <td>151315</td>\n",
              "      <td>3</td>\n",
              "    </tr>\n",
              "  </tbody>\n",
              "</table>\n",
              "</div>"
            ],
            "text/plain": [
              "  Store Dept  Weekly_Sales IsHoliday_x  ...  Unemployment  Type    Size  month\n",
              "0     1    1      24924.50       False  ...         8.106     A  151315      2\n",
              "1     1    1      46039.49        True  ...         8.106     A  151315      2\n",
              "2     1    1      41595.55       False  ...         8.106     A  151315      2\n",
              "3     1    1      19403.54       False  ...         8.106     A  151315      2\n",
              "4     1    1      21827.90       False  ...         8.106     A  151315      3\n",
              "\n",
              "[5 rows x 11 columns]"
            ]
          },
          "metadata": {},
          "execution_count": 58
        }
      ]
    },
    {
      "cell_type": "code",
      "metadata": {
        "id": "nyq_whC-ytPJ"
      },
      "source": [
        "categorical_columns = ['Store', 'Dept', 'IsHoliday_x', 'Type', 'month', 'week']\n",
        "numeric_columns = ['Weekly_Sales', 'Temperature', 'Fuel_Price', 'CPI', 'Unemployment',  'Size']"
      ],
      "execution_count": null,
      "outputs": []
    },
    {
      "cell_type": "markdown",
      "metadata": {
        "id": "bg0UBQ5_w0TF"
      },
      "source": [
        "Теперь определим, какие колонки как категориальные необходимо разложить на признаки по столбцам. "
      ]
    },
    {
      "cell_type": "code",
      "metadata": {
        "id": "eZVcGEfMxMLS"
      },
      "source": [
        "#категории на столбцы через dummies\n",
        "fin_dummies = pd.get_dummies(final_df[categorical_columns])"
      ],
      "execution_count": null,
      "outputs": []
    },
    {
      "cell_type": "code",
      "metadata": {
        "colab": {
          "base_uri": "https://localhost:8080/"
        },
        "id": "9tGPfi51B6hP",
        "outputId": "bbbd9a08-5899-4223-fe3c-9668455e916d"
      },
      "source": [
        "fin_dummies.columns"
      ],
      "execution_count": null,
      "outputs": [
        {
          "output_type": "execute_result",
          "data": {
            "text/plain": [
              "Index(['Store_1', 'Store_10', 'Store_11', 'Store_12', 'Store_13', 'Store_14',\n",
              "       'Store_15', 'Store_16', 'Store_17', 'Store_18',\n",
              "       ...\n",
              "       'week_48', 'week_49', 'week_5', 'week_50', 'week_51', 'week_52',\n",
              "       'week_6', 'week_7', 'week_8', 'week_9'],\n",
              "      dtype='object', length=195)"
            ]
          },
          "metadata": {},
          "execution_count": 61
        }
      ]
    },
    {
      "cell_type": "code",
      "metadata": {
        "colab": {
          "base_uri": "https://localhost:8080/",
          "height": 206
        },
        "id": "X4FK8y4byHpz",
        "outputId": "de4ea037-0eee-4750-8563-721fd49f3bdc"
      },
      "source": [
        "fin_dummies[['IsHoliday_x_True','IsHoliday_x_False']].head()"
      ],
      "execution_count": null,
      "outputs": [
        {
          "output_type": "execute_result",
          "data": {
            "text/html": [
              "<div>\n",
              "<style scoped>\n",
              "    .dataframe tbody tr th:only-of-type {\n",
              "        vertical-align: middle;\n",
              "    }\n",
              "\n",
              "    .dataframe tbody tr th {\n",
              "        vertical-align: top;\n",
              "    }\n",
              "\n",
              "    .dataframe thead th {\n",
              "        text-align: right;\n",
              "    }\n",
              "</style>\n",
              "<table border=\"1\" class=\"dataframe\">\n",
              "  <thead>\n",
              "    <tr style=\"text-align: right;\">\n",
              "      <th></th>\n",
              "      <th>IsHoliday_x_True</th>\n",
              "      <th>IsHoliday_x_False</th>\n",
              "    </tr>\n",
              "  </thead>\n",
              "  <tbody>\n",
              "    <tr>\n",
              "      <th>0</th>\n",
              "      <td>0</td>\n",
              "      <td>1</td>\n",
              "    </tr>\n",
              "    <tr>\n",
              "      <th>1</th>\n",
              "      <td>1</td>\n",
              "      <td>0</td>\n",
              "    </tr>\n",
              "    <tr>\n",
              "      <th>2</th>\n",
              "      <td>0</td>\n",
              "      <td>1</td>\n",
              "    </tr>\n",
              "    <tr>\n",
              "      <th>3</th>\n",
              "      <td>0</td>\n",
              "      <td>1</td>\n",
              "    </tr>\n",
              "    <tr>\n",
              "      <th>4</th>\n",
              "      <td>0</td>\n",
              "      <td>1</td>\n",
              "    </tr>\n",
              "  </tbody>\n",
              "</table>\n",
              "</div>"
            ],
            "text/plain": [
              "   IsHoliday_x_True  IsHoliday_x_False\n",
              "0                 0                  1\n",
              "1                 1                  0\n",
              "2                 0                  1\n",
              "3                 0                  1\n",
              "4                 0                  1"
            ]
          },
          "metadata": {},
          "execution_count": 62
        }
      ]
    },
    {
      "cell_type": "code",
      "metadata": {
        "colab": {
          "base_uri": "https://localhost:8080/"
        },
        "id": "L41mSILTHxdi",
        "outputId": "4b0a45fd-c1bf-4137-d56d-92bf1ff8e1fb"
      },
      "source": [
        "fin_dummies.shape"
      ],
      "execution_count": null,
      "outputs": [
        {
          "output_type": "execute_result",
          "data": {
            "text/plain": [
              "(420212, 195)"
            ]
          },
          "metadata": {},
          "execution_count": 63
        }
      ]
    },
    {
      "cell_type": "code",
      "metadata": {
        "id": "VXhfSow6Hj8Y"
      },
      "source": [
        "fin_num = final_df[numeric_columns]"
      ],
      "execution_count": null,
      "outputs": []
    },
    {
      "cell_type": "code",
      "metadata": {
        "colab": {
          "base_uri": "https://localhost:8080/"
        },
        "id": "pBo_pZFdHsAI",
        "outputId": "438321b9-a360-4db3-d5fd-396c8f54b2d3"
      },
      "source": [
        "fin_num.shape"
      ],
      "execution_count": null,
      "outputs": [
        {
          "output_type": "execute_result",
          "data": {
            "text/plain": [
              "(420212, 6)"
            ]
          },
          "metadata": {},
          "execution_count": 65
        }
      ]
    },
    {
      "cell_type": "code",
      "metadata": {
        "id": "0vKjIV49H6nu"
      },
      "source": [
        "fin = pd.concat([fin_dummies, fin_num], sort = False, axis=1)"
      ],
      "execution_count": null,
      "outputs": []
    },
    {
      "cell_type": "code",
      "metadata": {
        "colab": {
          "base_uri": "https://localhost:8080/"
        },
        "id": "n-K6_pi6IoGr",
        "outputId": "925d22e1-e22e-4aa3-ea1f-f2b4b1d63353"
      },
      "source": [
        "fin.shape"
      ],
      "execution_count": null,
      "outputs": [
        {
          "output_type": "execute_result",
          "data": {
            "text/plain": [
              "(420212, 201)"
            ]
          },
          "metadata": {},
          "execution_count": 67
        }
      ]
    },
    {
      "cell_type": "code",
      "metadata": {
        "colab": {
          "base_uri": "https://localhost:8080/",
          "height": 256
        },
        "id": "WsZpZoQ6IsRu",
        "outputId": "14ade3d9-e0b9-4645-fade-5b5d1a81960e"
      },
      "source": [
        "fin.head()"
      ],
      "execution_count": null,
      "outputs": [
        {
          "output_type": "execute_result",
          "data": {
            "text/html": [
              "<div>\n",
              "<style scoped>\n",
              "    .dataframe tbody tr th:only-of-type {\n",
              "        vertical-align: middle;\n",
              "    }\n",
              "\n",
              "    .dataframe tbody tr th {\n",
              "        vertical-align: top;\n",
              "    }\n",
              "\n",
              "    .dataframe thead th {\n",
              "        text-align: right;\n",
              "    }\n",
              "</style>\n",
              "<table border=\"1\" class=\"dataframe\">\n",
              "  <thead>\n",
              "    <tr style=\"text-align: right;\">\n",
              "      <th></th>\n",
              "      <th>Store_1</th>\n",
              "      <th>Store_10</th>\n",
              "      <th>Store_11</th>\n",
              "      <th>Store_12</th>\n",
              "      <th>Store_13</th>\n",
              "      <th>Store_14</th>\n",
              "      <th>Store_15</th>\n",
              "      <th>Store_16</th>\n",
              "      <th>Store_17</th>\n",
              "      <th>Store_18</th>\n",
              "      <th>Store_19</th>\n",
              "      <th>Store_2</th>\n",
              "      <th>Store_20</th>\n",
              "      <th>Store_21</th>\n",
              "      <th>Store_22</th>\n",
              "      <th>Store_23</th>\n",
              "      <th>Store_24</th>\n",
              "      <th>Store_25</th>\n",
              "      <th>Store_26</th>\n",
              "      <th>Store_27</th>\n",
              "      <th>Store_28</th>\n",
              "      <th>Store_29</th>\n",
              "      <th>Store_3</th>\n",
              "      <th>Store_30</th>\n",
              "      <th>Store_31</th>\n",
              "      <th>Store_32</th>\n",
              "      <th>Store_33</th>\n",
              "      <th>Store_34</th>\n",
              "      <th>Store_35</th>\n",
              "      <th>Store_36</th>\n",
              "      <th>Store_37</th>\n",
              "      <th>Store_38</th>\n",
              "      <th>Store_39</th>\n",
              "      <th>Store_4</th>\n",
              "      <th>Store_40</th>\n",
              "      <th>Store_41</th>\n",
              "      <th>Store_42</th>\n",
              "      <th>Store_43</th>\n",
              "      <th>Store_44</th>\n",
              "      <th>Store_45</th>\n",
              "      <th>...</th>\n",
              "      <th>week_26</th>\n",
              "      <th>week_27</th>\n",
              "      <th>week_28</th>\n",
              "      <th>week_29</th>\n",
              "      <th>week_3</th>\n",
              "      <th>week_30</th>\n",
              "      <th>week_31</th>\n",
              "      <th>week_32</th>\n",
              "      <th>week_33</th>\n",
              "      <th>week_34</th>\n",
              "      <th>week_35</th>\n",
              "      <th>week_36</th>\n",
              "      <th>week_37</th>\n",
              "      <th>week_38</th>\n",
              "      <th>week_39</th>\n",
              "      <th>week_4</th>\n",
              "      <th>week_40</th>\n",
              "      <th>week_41</th>\n",
              "      <th>week_42</th>\n",
              "      <th>week_43</th>\n",
              "      <th>week_44</th>\n",
              "      <th>week_45</th>\n",
              "      <th>week_46</th>\n",
              "      <th>week_47</th>\n",
              "      <th>week_48</th>\n",
              "      <th>week_49</th>\n",
              "      <th>week_5</th>\n",
              "      <th>week_50</th>\n",
              "      <th>week_51</th>\n",
              "      <th>week_52</th>\n",
              "      <th>week_6</th>\n",
              "      <th>week_7</th>\n",
              "      <th>week_8</th>\n",
              "      <th>week_9</th>\n",
              "      <th>Weekly_Sales</th>\n",
              "      <th>Temperature</th>\n",
              "      <th>Fuel_Price</th>\n",
              "      <th>CPI</th>\n",
              "      <th>Unemployment</th>\n",
              "      <th>Size</th>\n",
              "    </tr>\n",
              "  </thead>\n",
              "  <tbody>\n",
              "    <tr>\n",
              "      <th>0</th>\n",
              "      <td>1</td>\n",
              "      <td>0</td>\n",
              "      <td>0</td>\n",
              "      <td>0</td>\n",
              "      <td>0</td>\n",
              "      <td>0</td>\n",
              "      <td>0</td>\n",
              "      <td>0</td>\n",
              "      <td>0</td>\n",
              "      <td>0</td>\n",
              "      <td>0</td>\n",
              "      <td>0</td>\n",
              "      <td>0</td>\n",
              "      <td>0</td>\n",
              "      <td>0</td>\n",
              "      <td>0</td>\n",
              "      <td>0</td>\n",
              "      <td>0</td>\n",
              "      <td>0</td>\n",
              "      <td>0</td>\n",
              "      <td>0</td>\n",
              "      <td>0</td>\n",
              "      <td>0</td>\n",
              "      <td>0</td>\n",
              "      <td>0</td>\n",
              "      <td>0</td>\n",
              "      <td>0</td>\n",
              "      <td>0</td>\n",
              "      <td>0</td>\n",
              "      <td>0</td>\n",
              "      <td>0</td>\n",
              "      <td>0</td>\n",
              "      <td>0</td>\n",
              "      <td>0</td>\n",
              "      <td>0</td>\n",
              "      <td>0</td>\n",
              "      <td>0</td>\n",
              "      <td>0</td>\n",
              "      <td>0</td>\n",
              "      <td>0</td>\n",
              "      <td>...</td>\n",
              "      <td>0</td>\n",
              "      <td>0</td>\n",
              "      <td>0</td>\n",
              "      <td>0</td>\n",
              "      <td>0</td>\n",
              "      <td>0</td>\n",
              "      <td>0</td>\n",
              "      <td>0</td>\n",
              "      <td>0</td>\n",
              "      <td>0</td>\n",
              "      <td>0</td>\n",
              "      <td>0</td>\n",
              "      <td>0</td>\n",
              "      <td>0</td>\n",
              "      <td>0</td>\n",
              "      <td>0</td>\n",
              "      <td>0</td>\n",
              "      <td>0</td>\n",
              "      <td>0</td>\n",
              "      <td>0</td>\n",
              "      <td>0</td>\n",
              "      <td>0</td>\n",
              "      <td>0</td>\n",
              "      <td>0</td>\n",
              "      <td>0</td>\n",
              "      <td>0</td>\n",
              "      <td>1</td>\n",
              "      <td>0</td>\n",
              "      <td>0</td>\n",
              "      <td>0</td>\n",
              "      <td>0</td>\n",
              "      <td>0</td>\n",
              "      <td>0</td>\n",
              "      <td>0</td>\n",
              "      <td>24924.50</td>\n",
              "      <td>42.31</td>\n",
              "      <td>2.572</td>\n",
              "      <td>211.096358</td>\n",
              "      <td>8.106</td>\n",
              "      <td>151315</td>\n",
              "    </tr>\n",
              "    <tr>\n",
              "      <th>1</th>\n",
              "      <td>1</td>\n",
              "      <td>0</td>\n",
              "      <td>0</td>\n",
              "      <td>0</td>\n",
              "      <td>0</td>\n",
              "      <td>0</td>\n",
              "      <td>0</td>\n",
              "      <td>0</td>\n",
              "      <td>0</td>\n",
              "      <td>0</td>\n",
              "      <td>0</td>\n",
              "      <td>0</td>\n",
              "      <td>0</td>\n",
              "      <td>0</td>\n",
              "      <td>0</td>\n",
              "      <td>0</td>\n",
              "      <td>0</td>\n",
              "      <td>0</td>\n",
              "      <td>0</td>\n",
              "      <td>0</td>\n",
              "      <td>0</td>\n",
              "      <td>0</td>\n",
              "      <td>0</td>\n",
              "      <td>0</td>\n",
              "      <td>0</td>\n",
              "      <td>0</td>\n",
              "      <td>0</td>\n",
              "      <td>0</td>\n",
              "      <td>0</td>\n",
              "      <td>0</td>\n",
              "      <td>0</td>\n",
              "      <td>0</td>\n",
              "      <td>0</td>\n",
              "      <td>0</td>\n",
              "      <td>0</td>\n",
              "      <td>0</td>\n",
              "      <td>0</td>\n",
              "      <td>0</td>\n",
              "      <td>0</td>\n",
              "      <td>0</td>\n",
              "      <td>...</td>\n",
              "      <td>0</td>\n",
              "      <td>0</td>\n",
              "      <td>0</td>\n",
              "      <td>0</td>\n",
              "      <td>0</td>\n",
              "      <td>0</td>\n",
              "      <td>0</td>\n",
              "      <td>0</td>\n",
              "      <td>0</td>\n",
              "      <td>0</td>\n",
              "      <td>0</td>\n",
              "      <td>0</td>\n",
              "      <td>0</td>\n",
              "      <td>0</td>\n",
              "      <td>0</td>\n",
              "      <td>0</td>\n",
              "      <td>0</td>\n",
              "      <td>0</td>\n",
              "      <td>0</td>\n",
              "      <td>0</td>\n",
              "      <td>0</td>\n",
              "      <td>0</td>\n",
              "      <td>0</td>\n",
              "      <td>0</td>\n",
              "      <td>0</td>\n",
              "      <td>0</td>\n",
              "      <td>0</td>\n",
              "      <td>0</td>\n",
              "      <td>0</td>\n",
              "      <td>0</td>\n",
              "      <td>1</td>\n",
              "      <td>0</td>\n",
              "      <td>0</td>\n",
              "      <td>0</td>\n",
              "      <td>46039.49</td>\n",
              "      <td>38.51</td>\n",
              "      <td>2.548</td>\n",
              "      <td>211.242170</td>\n",
              "      <td>8.106</td>\n",
              "      <td>151315</td>\n",
              "    </tr>\n",
              "    <tr>\n",
              "      <th>2</th>\n",
              "      <td>1</td>\n",
              "      <td>0</td>\n",
              "      <td>0</td>\n",
              "      <td>0</td>\n",
              "      <td>0</td>\n",
              "      <td>0</td>\n",
              "      <td>0</td>\n",
              "      <td>0</td>\n",
              "      <td>0</td>\n",
              "      <td>0</td>\n",
              "      <td>0</td>\n",
              "      <td>0</td>\n",
              "      <td>0</td>\n",
              "      <td>0</td>\n",
              "      <td>0</td>\n",
              "      <td>0</td>\n",
              "      <td>0</td>\n",
              "      <td>0</td>\n",
              "      <td>0</td>\n",
              "      <td>0</td>\n",
              "      <td>0</td>\n",
              "      <td>0</td>\n",
              "      <td>0</td>\n",
              "      <td>0</td>\n",
              "      <td>0</td>\n",
              "      <td>0</td>\n",
              "      <td>0</td>\n",
              "      <td>0</td>\n",
              "      <td>0</td>\n",
              "      <td>0</td>\n",
              "      <td>0</td>\n",
              "      <td>0</td>\n",
              "      <td>0</td>\n",
              "      <td>0</td>\n",
              "      <td>0</td>\n",
              "      <td>0</td>\n",
              "      <td>0</td>\n",
              "      <td>0</td>\n",
              "      <td>0</td>\n",
              "      <td>0</td>\n",
              "      <td>...</td>\n",
              "      <td>0</td>\n",
              "      <td>0</td>\n",
              "      <td>0</td>\n",
              "      <td>0</td>\n",
              "      <td>0</td>\n",
              "      <td>0</td>\n",
              "      <td>0</td>\n",
              "      <td>0</td>\n",
              "      <td>0</td>\n",
              "      <td>0</td>\n",
              "      <td>0</td>\n",
              "      <td>0</td>\n",
              "      <td>0</td>\n",
              "      <td>0</td>\n",
              "      <td>0</td>\n",
              "      <td>0</td>\n",
              "      <td>0</td>\n",
              "      <td>0</td>\n",
              "      <td>0</td>\n",
              "      <td>0</td>\n",
              "      <td>0</td>\n",
              "      <td>0</td>\n",
              "      <td>0</td>\n",
              "      <td>0</td>\n",
              "      <td>0</td>\n",
              "      <td>0</td>\n",
              "      <td>0</td>\n",
              "      <td>0</td>\n",
              "      <td>0</td>\n",
              "      <td>0</td>\n",
              "      <td>0</td>\n",
              "      <td>1</td>\n",
              "      <td>0</td>\n",
              "      <td>0</td>\n",
              "      <td>41595.55</td>\n",
              "      <td>39.93</td>\n",
              "      <td>2.514</td>\n",
              "      <td>211.289143</td>\n",
              "      <td>8.106</td>\n",
              "      <td>151315</td>\n",
              "    </tr>\n",
              "    <tr>\n",
              "      <th>3</th>\n",
              "      <td>1</td>\n",
              "      <td>0</td>\n",
              "      <td>0</td>\n",
              "      <td>0</td>\n",
              "      <td>0</td>\n",
              "      <td>0</td>\n",
              "      <td>0</td>\n",
              "      <td>0</td>\n",
              "      <td>0</td>\n",
              "      <td>0</td>\n",
              "      <td>0</td>\n",
              "      <td>0</td>\n",
              "      <td>0</td>\n",
              "      <td>0</td>\n",
              "      <td>0</td>\n",
              "      <td>0</td>\n",
              "      <td>0</td>\n",
              "      <td>0</td>\n",
              "      <td>0</td>\n",
              "      <td>0</td>\n",
              "      <td>0</td>\n",
              "      <td>0</td>\n",
              "      <td>0</td>\n",
              "      <td>0</td>\n",
              "      <td>0</td>\n",
              "      <td>0</td>\n",
              "      <td>0</td>\n",
              "      <td>0</td>\n",
              "      <td>0</td>\n",
              "      <td>0</td>\n",
              "      <td>0</td>\n",
              "      <td>0</td>\n",
              "      <td>0</td>\n",
              "      <td>0</td>\n",
              "      <td>0</td>\n",
              "      <td>0</td>\n",
              "      <td>0</td>\n",
              "      <td>0</td>\n",
              "      <td>0</td>\n",
              "      <td>0</td>\n",
              "      <td>...</td>\n",
              "      <td>0</td>\n",
              "      <td>0</td>\n",
              "      <td>0</td>\n",
              "      <td>0</td>\n",
              "      <td>0</td>\n",
              "      <td>0</td>\n",
              "      <td>0</td>\n",
              "      <td>0</td>\n",
              "      <td>0</td>\n",
              "      <td>0</td>\n",
              "      <td>0</td>\n",
              "      <td>0</td>\n",
              "      <td>0</td>\n",
              "      <td>0</td>\n",
              "      <td>0</td>\n",
              "      <td>0</td>\n",
              "      <td>0</td>\n",
              "      <td>0</td>\n",
              "      <td>0</td>\n",
              "      <td>0</td>\n",
              "      <td>0</td>\n",
              "      <td>0</td>\n",
              "      <td>0</td>\n",
              "      <td>0</td>\n",
              "      <td>0</td>\n",
              "      <td>0</td>\n",
              "      <td>0</td>\n",
              "      <td>0</td>\n",
              "      <td>0</td>\n",
              "      <td>0</td>\n",
              "      <td>0</td>\n",
              "      <td>0</td>\n",
              "      <td>1</td>\n",
              "      <td>0</td>\n",
              "      <td>19403.54</td>\n",
              "      <td>46.63</td>\n",
              "      <td>2.561</td>\n",
              "      <td>211.319643</td>\n",
              "      <td>8.106</td>\n",
              "      <td>151315</td>\n",
              "    </tr>\n",
              "    <tr>\n",
              "      <th>4</th>\n",
              "      <td>1</td>\n",
              "      <td>0</td>\n",
              "      <td>0</td>\n",
              "      <td>0</td>\n",
              "      <td>0</td>\n",
              "      <td>0</td>\n",
              "      <td>0</td>\n",
              "      <td>0</td>\n",
              "      <td>0</td>\n",
              "      <td>0</td>\n",
              "      <td>0</td>\n",
              "      <td>0</td>\n",
              "      <td>0</td>\n",
              "      <td>0</td>\n",
              "      <td>0</td>\n",
              "      <td>0</td>\n",
              "      <td>0</td>\n",
              "      <td>0</td>\n",
              "      <td>0</td>\n",
              "      <td>0</td>\n",
              "      <td>0</td>\n",
              "      <td>0</td>\n",
              "      <td>0</td>\n",
              "      <td>0</td>\n",
              "      <td>0</td>\n",
              "      <td>0</td>\n",
              "      <td>0</td>\n",
              "      <td>0</td>\n",
              "      <td>0</td>\n",
              "      <td>0</td>\n",
              "      <td>0</td>\n",
              "      <td>0</td>\n",
              "      <td>0</td>\n",
              "      <td>0</td>\n",
              "      <td>0</td>\n",
              "      <td>0</td>\n",
              "      <td>0</td>\n",
              "      <td>0</td>\n",
              "      <td>0</td>\n",
              "      <td>0</td>\n",
              "      <td>...</td>\n",
              "      <td>0</td>\n",
              "      <td>0</td>\n",
              "      <td>0</td>\n",
              "      <td>0</td>\n",
              "      <td>0</td>\n",
              "      <td>0</td>\n",
              "      <td>0</td>\n",
              "      <td>0</td>\n",
              "      <td>0</td>\n",
              "      <td>0</td>\n",
              "      <td>0</td>\n",
              "      <td>0</td>\n",
              "      <td>0</td>\n",
              "      <td>0</td>\n",
              "      <td>0</td>\n",
              "      <td>0</td>\n",
              "      <td>0</td>\n",
              "      <td>0</td>\n",
              "      <td>0</td>\n",
              "      <td>0</td>\n",
              "      <td>0</td>\n",
              "      <td>0</td>\n",
              "      <td>0</td>\n",
              "      <td>0</td>\n",
              "      <td>0</td>\n",
              "      <td>0</td>\n",
              "      <td>0</td>\n",
              "      <td>0</td>\n",
              "      <td>0</td>\n",
              "      <td>0</td>\n",
              "      <td>0</td>\n",
              "      <td>0</td>\n",
              "      <td>0</td>\n",
              "      <td>1</td>\n",
              "      <td>21827.90</td>\n",
              "      <td>46.50</td>\n",
              "      <td>2.625</td>\n",
              "      <td>211.350143</td>\n",
              "      <td>8.106</td>\n",
              "      <td>151315</td>\n",
              "    </tr>\n",
              "  </tbody>\n",
              "</table>\n",
              "<p>5 rows × 201 columns</p>\n",
              "</div>"
            ],
            "text/plain": [
              "   Store_1  Store_10  Store_11  ...         CPI  Unemployment    Size\n",
              "0        1         0         0  ...  211.096358         8.106  151315\n",
              "1        1         0         0  ...  211.242170         8.106  151315\n",
              "2        1         0         0  ...  211.289143         8.106  151315\n",
              "3        1         0         0  ...  211.319643         8.106  151315\n",
              "4        1         0         0  ...  211.350143         8.106  151315\n",
              "\n",
              "[5 rows x 201 columns]"
            ]
          },
          "metadata": {},
          "execution_count": 68
        }
      ]
    },
    {
      "cell_type": "markdown",
      "metadata": {
        "id": "PaZFHoQGI4nD"
      },
      "source": [
        "Полученный датафрейм fin готов к применению в качестве данных для обучения модели."
      ]
    },
    {
      "cell_type": "markdown",
      "metadata": {
        "id": "3_Njpo7QJG-A"
      },
      "source": [
        "# 4. Обучение и оценка модели прогноза выручки."
      ]
    },
    {
      "cell_type": "markdown",
      "metadata": {
        "id": "B3puEAUFJUGZ"
      },
      "source": [
        "## 4.1. Модель линейной регрессии "
      ]
    },
    {
      "cell_type": "markdown",
      "metadata": {
        "id": "pqg6-MarJbEp"
      },
      "source": [
        "В качестве первого варианта используем модель линейной регрессии и посмотрим на ее качество."
      ]
    },
    {
      "cell_type": "code",
      "metadata": {
        "colab": {
          "base_uri": "https://localhost:8080/"
        },
        "id": "JRRIE4ENJmHR",
        "outputId": "9676613a-d627-4076-811b-a7a033128dc0"
      },
      "source": [
        "from sklearn.linear_model import LinearRegression # импорт модели линейной регрессии\n",
        "from sklearn.model_selection import train_test_split #загружаем необходимые модули для построения модели\n",
        "X = fin.drop('Weekly_Sales', 1) # набор данных для обучения факторы\n",
        "y = fin['Weekly_Sales'] #набор данных для обучения результат\n",
        "X_train, X_test, y_train, y_test = train_test_split(X, y, test_size=0.20, random_state=15) # разбиваем выборку на обучающую и тестовую\n",
        "model = LinearRegression()\n",
        "model.fit(X_train, y_train) # производим обучение модели на наших данных\n",
        "model.score(X_test, y_test) # считаем коэффициент детерминации\n",
        "# Чем ближе значение коэффициента детерминации к 1, тем сильнее зависимость. При оценке регрессионных моделей это интерпретируется как соответствие модели данным."
      ],
      "execution_count": null,
      "outputs": [
        {
          "output_type": "execute_result",
          "data": {
            "text/plain": [
              "0.66337351233993"
            ]
          },
          "metadata": {},
          "execution_count": 226
        }
      ]
    },
    {
      "cell_type": "code",
      "metadata": {
        "colab": {
          "base_uri": "https://localhost:8080/"
        },
        "id": "1v-dTebe9ofq",
        "outputId": "bf561b37-ac6f-4660-c957-4ce4266c5a6c"
      },
      "source": [
        "from sklearn.metrics import mean_squared_error, r2_score\n",
        "predictions = model.predict(X_test)\n",
        "# The mean squared error\n",
        "print(\"Mean squared error: %.2f\"\n",
        "      % mean_squared_error(y_test, predictions))\n",
        "# Explained variance score: 1 is perfect prediction\n",
        "print('Variance score: %.2f' % r2_score(y_test, predictions))"
      ],
      "execution_count": null,
      "outputs": [
        {
          "output_type": "stream",
          "name": "stdout",
          "text": [
            "Mean squared error: 170107080.99\n",
            "Variance score: 0.66\n"
          ]
        }
      ]
    },
    {
      "cell_type": "code",
      "metadata": {
        "colab": {
          "base_uri": "https://localhost:8080/"
        },
        "id": "UEuhbQ3T-wXR",
        "outputId": "db4b3a45-75c3-4d2b-8940-9908d8e193a3"
      },
      "source": [
        "X_test.shape"
      ],
      "execution_count": null,
      "outputs": [
        {
          "output_type": "execute_result",
          "data": {
            "text/plain": [
              "(84043, 200)"
            ]
          },
          "metadata": {},
          "execution_count": 228
        }
      ]
    },
    {
      "cell_type": "code",
      "metadata": {
        "id": "1FzrJc7o_QgW"
      },
      "source": [
        "import numpy as np\n",
        "X = np.arange(0, 84043, 1)"
      ],
      "execution_count": null,
      "outputs": []
    },
    {
      "cell_type": "code",
      "metadata": {
        "colab": {
          "base_uri": "https://localhost:8080/",
          "height": 252
        },
        "id": "-gdr_xNB-RE7",
        "outputId": "a2b0cd2e-334a-4e3a-b558-dcc7b32b3a89"
      },
      "source": [
        "plt.scatter(X, y_test,  color='black')\n",
        "plt.plot(X, predictions, color='blue', linewidth=3)\n",
        "plt.xticks(())\n",
        "plt.yticks(())\n",
        "plt.show()"
      ],
      "execution_count": null,
      "outputs": [
        {
          "output_type": "display_data",
          "data": {
            "image/png": "[encoded data removed]",
            "text/plain": [
              "<Figure size 432x288 with 1 Axes>"
            ]
          },
          "metadata": {}
        }
      ]
    },
    {
      "cell_type": "markdown",
      "metadata": {
        "id": "D1EtBWtPMzfX"
      },
      "source": [
        "Качество предсказания модели линейной регрессии - 66%. Показатель невысокий."
      ]
    },
    {
      "cell_type": "markdown",
      "metadata": {
        "id": "FjC7GIITTcfL"
      },
      "source": [
        "## 4.2. Модель RandomForestRegressor"
      ]
    },
    {
      "cell_type": "markdown",
      "metadata": {
        "id": "jZrXTIymxo9p"
      },
      "source": [
        "Рассмотрим модель случайного леса и посмотрим на ее качество."
      ]
    },
    {
      "cell_type": "code",
      "metadata": {
        "id": "249Dc02sTkla",
        "colab": {
          "base_uri": "https://localhost:8080/"
        },
        "outputId": "1e510af0-af7e-4075-dafe-724b74dd32ed"
      },
      "source": [
        "from sklearn.ensemble import RandomForestRegressor\n",
        "from sklearn.model_selection import train_test_split\n",
        "X = fin.drop('Weekly_Sales', 1) # набор данных для обучения факторы\n",
        "y = fin['Weekly_Sales'] #набор данных для обучения результат\n",
        "X_train, X_test, y_train, y_test = train_test_split(X, y, test_size=0.20, random_state=15) # разбиваем выборку на обучающую и тестовую\n",
        "regr = RandomForestRegressor(max_depth=2, random_state=0)\n",
        "regr.fit(X_train, y_train)\n",
        "regr.predict(X_test)\n",
        "regr.score(X_test, y_test, sample_weight=None)\n",
        "# #The best possible score is 1.0"
      ],
      "execution_count": null,
      "outputs": [
        {
          "output_type": "execute_result",
          "data": {
            "text/plain": [
              "0.2360463637295951"
            ]
          },
          "metadata": {},
          "execution_count": 69
        }
      ]
    },
    {
      "cell_type": "markdown",
      "metadata": {
        "id": "Kn84cCFgcFPy"
      },
      "source": [
        "Очень низкий показатель, 0.236"
      ]
    },
    {
      "cell_type": "markdown",
      "metadata": {
        "id": "dpsaGEB_-pPj"
      },
      "source": [
        "## 4.3. Модель GradientBoostingRegressor"
      ]
    },
    {
      "cell_type": "markdown",
      "metadata": {
        "id": "QGES46apxx9B"
      },
      "source": [
        "Проверим модель градиентного бустинга и посмотрим на ее качество."
      ]
    },
    {
      "cell_type": "code",
      "metadata": {
        "id": "t_LcySWDFkE_",
        "colab": {
          "base_uri": "https://localhost:8080/"
        },
        "outputId": "7e0c1f5a-a033-44c7-99cb-7fe02faeff38"
      },
      "source": [
        "from sklearn.ensemble import GradientBoostingRegressor\n",
        "from sklearn.model_selection import train_test_split\n",
        "X = fin.drop('Weekly_Sales', 1) # набор данных для обучения факторы\n",
        "y = fin['Weekly_Sales'] #набор данных для обучения результат\n",
        "X_train, X_test, y_train, y_test = train_test_split(X, y, random_state=0)\n",
        "reg = GradientBoostingRegressor(random_state=0)\n",
        "reg.fit(X_train, y_train)\n",
        "GradientBoostingRegressor(random_state=0)\n",
        "reg.predict(X_test)\n",
        "reg.score(X_test, y_test)"
      ],
      "execution_count": null,
      "outputs": [
        {
          "output_type": "execute_result",
          "data": {
            "text/plain": [
              "0.72802853783552"
            ]
          },
          "metadata": {},
          "execution_count": 233
        }
      ]
    },
    {
      "cell_type": "markdown",
      "metadata": {
        "id": "-gAA5uhTStOa"
      },
      "source": [
        "Качество предсказания модели градиентного бустинга - 73%. Результат лучше всех проверенных моделей. Остановимся на нем и произведем дополнительную отладку."
      ]
    },
    {
      "cell_type": "markdown",
      "metadata": {
        "id": "_ZTJ8unev4Ix"
      },
      "source": [
        "Попробуем оптимизировать модель. Произведем подбор параметров обучения модели с помощью RandomizedSearchCV:"
      ]
    },
    {
      "cell_type": "code",
      "metadata": {
        "colab": {
          "base_uri": "https://localhost:8080/"
        },
        "id": "8yGf0VtQyevi",
        "outputId": "9c0ff6b6-b482-401c-ce5c-55c2a99f8b1f"
      },
      "source": [
        "from sklearn.ensemble import GradientBoostingRegressor\n",
        "gradientboost = GradientBoostingRegressor()\n",
        "from sklearn.model_selection import RandomizedSearchCV\n",
        "loss = ['squared_error', 'absolute_error', 'huber', 'quantile']\n",
        "n_estimators = [100, 200, 300]\n",
        "max_depth = [2, 4, 6]\n",
        "min_samples_leaf = [2, 4, 6] \n",
        "min_samples_split = [2, 4, 6]\n",
        "max_features = ['auto', 'sqrt', 'log2', None]\n",
        "\n",
        "# Define the grid of hyperparameters to search\n",
        "hyperparameter_grid = {'loss': loss,\n",
        "    'n_estimators': n_estimators,\n",
        "    'max_depth': max_depth,\n",
        "    'min_samples_leaf': min_samples_leaf,\n",
        "    'min_samples_split': min_samples_split,\n",
        "    'max_features': max_features}\n",
        "\n",
        "# Set up the random search with 4-fold cross validation\n",
        "random_cv = RandomizedSearchCV(estimator=gradientboost,\n",
        "            param_distributions=hyperparameter_grid,\n",
        "            cv=2, n_iter=2,\n",
        "            scoring = 'r2',n_jobs = 4,\n",
        "            verbose = 5, \n",
        "            return_train_score = True,\n",
        "            random_state=42)\n",
        "random_cv.fit(X_train, y_train)"
      ],
      "execution_count": null,
      "outputs": [
        {
          "output_type": "stream",
          "name": "stdout",
          "text": [
            "Fitting 2 folds for each of 2 candidates, totalling 4 fits\n"
          ]
        },
        {
          "output_type": "execute_result",
          "data": {
            "text/plain": [
              "RandomizedSearchCV(cv=2, estimator=GradientBoostingRegressor(), n_iter=2,\n",
              "                   n_jobs=4,\n",
              "                   param_distributions={'loss': ['squared_error',\n",
              "                                                 'absolute_error', 'huber',\n",
              "                                                 'quantile'],\n",
              "                                        'max_depth': [2, 4, 6],\n",
              "                                        'max_features': ['auto', 'sqrt', 'log2',\n",
              "                                                         None],\n",
              "                                        'min_samples_leaf': [2, 4, 6],\n",
              "                                        'min_samples_split': [2, 4, 6],\n",
              "                                        'n_estimators': [100, 200, 300]},\n",
              "                   random_state=42, return_train_score=True, scoring='r2',\n",
              "                   verbose=5)"
            ]
          },
          "metadata": {},
          "execution_count": 90
        }
      ]
    },
    {
      "cell_type": "markdown",
      "metadata": {
        "id": "Lzr3RuadQP6p"
      },
      "source": [
        "Поиск более оптимальных параметров выдал такие результаты:"
      ]
    },
    {
      "cell_type": "code",
      "metadata": {
        "colab": {
          "base_uri": "https://localhost:8080/"
        },
        "id": "of74B6M52kF4",
        "outputId": "48541b0a-5956-48e6-d55b-3a023dae18f4"
      },
      "source": [
        "random_cv.best_params_"
      ],
      "execution_count": null,
      "outputs": [
        {
          "output_type": "execute_result",
          "data": {
            "text/plain": [
              "{'loss': 'huber',\n",
              " 'max_depth': 4,\n",
              " 'max_features': None,\n",
              " 'min_samples_leaf': 6,\n",
              " 'min_samples_split': 4,\n",
              " 'n_estimators': 300}"
            ]
          },
          "metadata": {},
          "execution_count": 91
        }
      ]
    },
    {
      "cell_type": "markdown",
      "metadata": {
        "id": "YHwtcvSAOnE9"
      },
      "source": [
        "Произведем обучение модели градиентного бустинга с этими оптимизированными параметрами:"
      ]
    },
    {
      "cell_type": "code",
      "metadata": {
        "colab": {
          "base_uri": "https://localhost:8080/"
        },
        "id": "Hw03P7uN2sqF",
        "outputId": "6b971f10-fa0d-43b4-88d1-665ae1bf81c1"
      },
      "source": [
        "from sklearn.ensemble import GradientBoostingRegressor\n",
        "from sklearn.model_selection import train_test_split\n",
        "X = fin.drop('Weekly_Sales', 1) # набор данных для обучения факторы\n",
        "y = fin['Weekly_Sales'] #набор данных для обучения результат\n",
        "X_train, X_test, y_train, y_test = train_test_split(X, y, random_state=0)\n",
        "reg = GradientBoostingRegressor(random_state=0, loss = 'huber', max_depth = 4, max_features = None, min_samples_split = 4, min_samples_leaf = 6, n_estimators = 300)\n",
        "reg.fit(X_train, y_train)\n",
        "# GradientBoostingRegressor(random_state=0, loss = 'quantile', max_depth = 4, max_features = 'sqrt', min_samples_split = 2, min_samples_leaf = 6, n_estimators = 200)\n",
        "reg.predict(X_test)\n",
        "reg.score(X_test, y_test)"
      ],
      "execution_count": null,
      "outputs": [
        {
          "output_type": "execute_result",
          "data": {
            "text/plain": [
              "0.8203092181995977"
            ]
          },
          "metadata": {},
          "execution_count": 92
        }
      ]
    },
    {
      "cell_type": "markdown",
      "metadata": {
        "id": "A7bTEH8sHAAH"
      },
      "source": [
        "В результате качество модели значительно улучшилось: r2 =  0,82. "
      ]
    }
  ]
}