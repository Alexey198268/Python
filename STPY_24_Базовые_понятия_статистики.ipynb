{
  "nbformat": 4,
  "nbformat_minor": 0,
  "metadata": {
    "colab": {
      "name": "STPY-24_Базовые понятия статистики",
      "provenance": [],
      "collapsed_sections": [],
      "authorship_tag": "ABX9TyPp02iEzYJm/pZDY3NvloSa",
      "include_colab_link": true
    },
    "kernelspec": {
      "name": "python3",
      "display_name": "Python 3"
    },
    "language_info": {
      "name": "python"
    }
  },
  "cells": [
    {
      "cell_type": "markdown",
      "metadata": {
        "id": "view-in-github",
        "colab_type": "text"
      },
      "source": [
        "<a href=\"https://colab.research.google.com/github/Alexey198268/Python/blob/main/STPY_24_%D0%91%D0%B0%D0%B7%D0%BE%D0%B2%D1%8B%D0%B5_%D0%BF%D0%BE%D0%BD%D1%8F%D1%82%D0%B8%D1%8F_%D1%81%D1%82%D0%B0%D1%82%D0%B8%D1%81%D1%82%D0%B8%D0%BA%D0%B8.ipynb\" target=\"_parent\"><img src=\"https://colab.research.google.com/assets/colab-badge.svg\" alt=\"Open In Colab\"/></a>"
      ]
    },
    {
      "cell_type": "markdown",
      "metadata": {
        "id": "aSEzanY8fdqv"
      },
      "source": [
        "#Задание 1. Загрузка данных\n",
        "Изучить представленный набор данных на основе описания его столбцов, загрузить его и оставить 8 столбцов для дальнейшего изучения: surgery?, Age, rectal temperature, pulse, respiratory rate, temperature of extremities, pain, outcome."
      ]
    },
    {
      "cell_type": "code",
      "metadata": {
        "id": "aLm1-jkzfUhp"
      },
      "source": [
        "import pandas as pd\n",
        "data = pd.read_csv('horse_data.csv', names = ['surgery', 'Age', 'Hospital Number', 'rectal temperature', 'pulse', \\\n",
        "                                              'respiratory rate', 'temperature of extremities', 'peripheral pulse', \\\n",
        "                                              'mucous membranes', 'capillary refill time', 'pain', 'peristalsis', \\\n",
        "                                              'abdominal distension', 'nasogastric tube', 'nasogastric reflux', \\\n",
        "                                              'nasogastric reflux PH', 'rectal examination', 'abdomen', 'packed cell volume', \\\n",
        "                                              'total protein', 'abdominocentesis appearance', 'abdomcentesis total protein', \\\n",
        "                                              'outcome', 'surgical lesion', 'type of lesion1', 'type of lesion2', 'type of lesion3', 'cp_data'])"
      ],
      "execution_count": null,
      "outputs": []
    },
    {
      "cell_type": "code",
      "metadata": {
        "id": "j2tfk5sHf7aK"
      },
      "source": [
        "data_horse = data[['surgery', 'Age', 'rectal temperature', 'pulse', 'respiratory rate', 'temperature of extremities', 'pain','outcome']]"
      ],
      "execution_count": null,
      "outputs": []
    },
    {
      "cell_type": "code",
      "metadata": {
        "colab": {
          "base_uri": "https://localhost:8080/",
          "height": 204
        },
        "id": "2EGsNEgNj9w3",
        "outputId": "b16d60cc-0ad8-4b3e-e087-fd98f40fc4ff"
      },
      "source": [
        "data_horse.head()"
      ],
      "execution_count": null,
      "outputs": [
        {
          "output_type": "execute_result",
          "data": {
            "text/html": [
              "<div>\n",
              "<style scoped>\n",
              "    .dataframe tbody tr th:only-of-type {\n",
              "        vertical-align: middle;\n",
              "    }\n",
              "\n",
              "    .dataframe tbody tr th {\n",
              "        vertical-align: top;\n",
              "    }\n",
              "\n",
              "    .dataframe thead th {\n",
              "        text-align: right;\n",
              "    }\n",
              "</style>\n",
              "<table border=\"1\" class=\"dataframe\">\n",
              "  <thead>\n",
              "    <tr style=\"text-align: right;\">\n",
              "      <th></th>\n",
              "      <th>surgery</th>\n",
              "      <th>Age</th>\n",
              "      <th>rectal temperature</th>\n",
              "      <th>pulse</th>\n",
              "      <th>respiratory rate</th>\n",
              "      <th>temperature of extremities</th>\n",
              "      <th>pain</th>\n",
              "      <th>outcome</th>\n",
              "    </tr>\n",
              "  </thead>\n",
              "  <tbody>\n",
              "    <tr>\n",
              "      <th>0</th>\n",
              "      <td>2</td>\n",
              "      <td>1</td>\n",
              "      <td>38.50</td>\n",
              "      <td>66</td>\n",
              "      <td>28</td>\n",
              "      <td>3</td>\n",
              "      <td>5</td>\n",
              "      <td>2</td>\n",
              "    </tr>\n",
              "    <tr>\n",
              "      <th>1</th>\n",
              "      <td>1</td>\n",
              "      <td>1</td>\n",
              "      <td>39.2</td>\n",
              "      <td>88</td>\n",
              "      <td>20</td>\n",
              "      <td>?</td>\n",
              "      <td>3</td>\n",
              "      <td>3</td>\n",
              "    </tr>\n",
              "    <tr>\n",
              "      <th>2</th>\n",
              "      <td>2</td>\n",
              "      <td>1</td>\n",
              "      <td>38.30</td>\n",
              "      <td>40</td>\n",
              "      <td>24</td>\n",
              "      <td>1</td>\n",
              "      <td>3</td>\n",
              "      <td>1</td>\n",
              "    </tr>\n",
              "    <tr>\n",
              "      <th>3</th>\n",
              "      <td>1</td>\n",
              "      <td>9</td>\n",
              "      <td>39.10</td>\n",
              "      <td>164</td>\n",
              "      <td>84</td>\n",
              "      <td>4</td>\n",
              "      <td>2</td>\n",
              "      <td>2</td>\n",
              "    </tr>\n",
              "    <tr>\n",
              "      <th>4</th>\n",
              "      <td>2</td>\n",
              "      <td>1</td>\n",
              "      <td>37.30</td>\n",
              "      <td>104</td>\n",
              "      <td>35</td>\n",
              "      <td>?</td>\n",
              "      <td>?</td>\n",
              "      <td>2</td>\n",
              "    </tr>\n",
              "  </tbody>\n",
              "</table>\n",
              "</div>"
            ],
            "text/plain": [
              "  surgery  Age rectal temperature  ... temperature of extremities pain outcome\n",
              "0       2    1              38.50  ...                          3    5       2\n",
              "1       1    1               39.2  ...                          ?    3       3\n",
              "2       2    1              38.30  ...                          1    3       1\n",
              "3       1    9              39.10  ...                          4    2       2\n",
              "4       2    1              37.30  ...                          ?    ?       2\n",
              "\n",
              "[5 rows x 8 columns]"
            ]
          },
          "metadata": {},
          "execution_count": 3
        }
      ]
    },
    {
      "cell_type": "markdown",
      "metadata": {
        "id": "yWVeqHLRkUtl"
      },
      "source": [
        "#Задание 2. Первичное изучение данных\n",
        "Проанализировать значения по столбцам, рассчитать базовые статистики, найти выбросы."
      ]
    },
    {
      "cell_type": "markdown",
      "metadata": {
        "id": "RQW3u4Vatywf"
      },
      "source": [
        " Сначала заменим пропущенные значения (отмеченные знаком \"?\") на значения, понятные библиотеке Pandas (NaN). Также изменим тип данных с текстового на числовой по всем столбцам для удобства дальнейшей работы. "
      ]
    },
    {
      "cell_type": "code",
      "metadata": {
        "colab": {
          "base_uri": "https://localhost:8080/"
        },
        "id": "kEDozwizYGDD",
        "outputId": "8aebdf7b-7b26-4822-e082-03fc1e38b938"
      },
      "source": [
        "data_horse.dtypes"
      ],
      "execution_count": null,
      "outputs": [
        {
          "output_type": "execute_result",
          "data": {
            "text/plain": [
              "surgery                       object\n",
              "Age                            int64\n",
              "rectal temperature            object\n",
              "pulse                         object\n",
              "respiratory rate              object\n",
              "temperature of extremities    object\n",
              "pain                          object\n",
              "outcome                       object\n",
              "dtype: object"
            ]
          },
          "metadata": {},
          "execution_count": 4
        }
      ]
    },
    {
      "cell_type": "code",
      "metadata": {
        "colab": {
          "base_uri": "https://localhost:8080/"
        },
        "id": "HPPrMViJkKqJ",
        "outputId": "252a6c92-b30f-4f23-a5c6-a33a9c426136"
      },
      "source": [
        "import numpy as np\n",
        "data_horse_stats =  data_horse.replace('?',np.nan)\n",
        "data_horse_stats = data_horse_stats.apply(pd.to_numeric)\n",
        "# data_horse_stats[['rectal temperature', 'pulse', 'respiratory rate']] = \\\n",
        "# data_horse_stats[['rectal temperature', 'pulse', 'respiratory rate']].apply(pd.to_numeric)\n",
        "# data_horse_stats['Age']=data_horse_stats.Age.astype('object')\n",
        "data_horse_stats.dtypes"
      ],
      "execution_count": null,
      "outputs": [
        {
          "output_type": "execute_result",
          "data": {
            "text/plain": [
              "surgery                       float64\n",
              "Age                             int64\n",
              "rectal temperature            float64\n",
              "pulse                         float64\n",
              "respiratory rate              float64\n",
              "temperature of extremities    float64\n",
              "pain                          float64\n",
              "outcome                       float64\n",
              "dtype: object"
            ]
          },
          "metadata": {},
          "execution_count": 6
        }
      ]
    },
    {
      "cell_type": "markdown",
      "metadata": {
        "id": "ZdvY1ApV-vyZ"
      },
      "source": [
        "Посмотрим на основные параметры датафрейма:"
      ]
    },
    {
      "cell_type": "code",
      "metadata": {
        "colab": {
          "base_uri": "https://localhost:8080/"
        },
        "id": "Aom3QFXy-0ph",
        "outputId": "ae219ca1-46f7-4132-a288-9d3ecccac7f4"
      },
      "source": [
        "data_horse_stats.info()"
      ],
      "execution_count": null,
      "outputs": [
        {
          "output_type": "stream",
          "name": "stdout",
          "text": [
            "<class 'pandas.core.frame.DataFrame'>\n",
            "RangeIndex: 300 entries, 0 to 299\n",
            "Data columns (total 8 columns):\n",
            " #   Column                      Non-Null Count  Dtype  \n",
            "---  ------                      --------------  -----  \n",
            " 0   surgery                     299 non-null    float64\n",
            " 1   Age                         300 non-null    int64  \n",
            " 2   rectal temperature          240 non-null    float64\n",
            " 3   pulse                       276 non-null    float64\n",
            " 4   respiratory rate            242 non-null    float64\n",
            " 5   temperature of extremities  244 non-null    float64\n",
            " 6   pain                        245 non-null    float64\n",
            " 7   outcome                     299 non-null    float64\n",
            "dtypes: float64(7), int64(1)\n",
            "memory usage: 18.9 KB\n"
          ]
        }
      ]
    },
    {
      "cell_type": "markdown",
      "metadata": {
        "id": "wTLhEbbtu9Tb"
      },
      "source": [
        "Посмотрим основные характеристики числовых столбцов через describe (игнорируя пропущенные значения):"
      ]
    },
    {
      "cell_type": "code",
      "metadata": {
        "colab": {
          "base_uri": "https://localhost:8080/",
          "height": 297
        },
        "id": "th_So2f2sBQ_",
        "outputId": "6e249792-a6fb-4ef4-ef94-f858e8f78d4a"
      },
      "source": [
        "data_horse_stats.describe()"
      ],
      "execution_count": null,
      "outputs": [
        {
          "output_type": "execute_result",
          "data": {
            "text/html": [
              "<div>\n",
              "<style scoped>\n",
              "    .dataframe tbody tr th:only-of-type {\n",
              "        vertical-align: middle;\n",
              "    }\n",
              "\n",
              "    .dataframe tbody tr th {\n",
              "        vertical-align: top;\n",
              "    }\n",
              "\n",
              "    .dataframe thead th {\n",
              "        text-align: right;\n",
              "    }\n",
              "</style>\n",
              "<table border=\"1\" class=\"dataframe\">\n",
              "  <thead>\n",
              "    <tr style=\"text-align: right;\">\n",
              "      <th></th>\n",
              "      <th>surgery</th>\n",
              "      <th>Age</th>\n",
              "      <th>rectal temperature</th>\n",
              "      <th>pulse</th>\n",
              "      <th>respiratory rate</th>\n",
              "      <th>temperature of extremities</th>\n",
              "      <th>pain</th>\n",
              "      <th>outcome</th>\n",
              "    </tr>\n",
              "  </thead>\n",
              "  <tbody>\n",
              "    <tr>\n",
              "      <th>count</th>\n",
              "      <td>299.000000</td>\n",
              "      <td>300.000000</td>\n",
              "      <td>240.000000</td>\n",
              "      <td>276.000000</td>\n",
              "      <td>242.000000</td>\n",
              "      <td>244.000000</td>\n",
              "      <td>245.00000</td>\n",
              "      <td>299.000000</td>\n",
              "    </tr>\n",
              "    <tr>\n",
              "      <th>mean</th>\n",
              "      <td>1.397993</td>\n",
              "      <td>1.640000</td>\n",
              "      <td>38.167917</td>\n",
              "      <td>71.913043</td>\n",
              "      <td>30.417355</td>\n",
              "      <td>2.348361</td>\n",
              "      <td>2.95102</td>\n",
              "      <td>1.551839</td>\n",
              "    </tr>\n",
              "    <tr>\n",
              "      <th>std</th>\n",
              "      <td>0.490305</td>\n",
              "      <td>2.173972</td>\n",
              "      <td>0.732289</td>\n",
              "      <td>28.630557</td>\n",
              "      <td>17.642231</td>\n",
              "      <td>1.045054</td>\n",
              "      <td>1.30794</td>\n",
              "      <td>0.737187</td>\n",
              "    </tr>\n",
              "    <tr>\n",
              "      <th>min</th>\n",
              "      <td>1.000000</td>\n",
              "      <td>1.000000</td>\n",
              "      <td>35.400000</td>\n",
              "      <td>30.000000</td>\n",
              "      <td>8.000000</td>\n",
              "      <td>1.000000</td>\n",
              "      <td>1.00000</td>\n",
              "      <td>1.000000</td>\n",
              "    </tr>\n",
              "    <tr>\n",
              "      <th>25%</th>\n",
              "      <td>1.000000</td>\n",
              "      <td>1.000000</td>\n",
              "      <td>37.800000</td>\n",
              "      <td>48.000000</td>\n",
              "      <td>18.500000</td>\n",
              "      <td>1.000000</td>\n",
              "      <td>2.00000</td>\n",
              "      <td>1.000000</td>\n",
              "    </tr>\n",
              "    <tr>\n",
              "      <th>50%</th>\n",
              "      <td>1.000000</td>\n",
              "      <td>1.000000</td>\n",
              "      <td>38.200000</td>\n",
              "      <td>64.000000</td>\n",
              "      <td>24.500000</td>\n",
              "      <td>3.000000</td>\n",
              "      <td>3.00000</td>\n",
              "      <td>1.000000</td>\n",
              "    </tr>\n",
              "    <tr>\n",
              "      <th>75%</th>\n",
              "      <td>2.000000</td>\n",
              "      <td>1.000000</td>\n",
              "      <td>38.500000</td>\n",
              "      <td>88.000000</td>\n",
              "      <td>36.000000</td>\n",
              "      <td>3.000000</td>\n",
              "      <td>4.00000</td>\n",
              "      <td>2.000000</td>\n",
              "    </tr>\n",
              "    <tr>\n",
              "      <th>max</th>\n",
              "      <td>2.000000</td>\n",
              "      <td>9.000000</td>\n",
              "      <td>40.800000</td>\n",
              "      <td>184.000000</td>\n",
              "      <td>96.000000</td>\n",
              "      <td>4.000000</td>\n",
              "      <td>5.00000</td>\n",
              "      <td>3.000000</td>\n",
              "    </tr>\n",
              "  </tbody>\n",
              "</table>\n",
              "</div>"
            ],
            "text/plain": [
              "          surgery         Age  ...       pain     outcome\n",
              "count  299.000000  300.000000  ...  245.00000  299.000000\n",
              "mean     1.397993    1.640000  ...    2.95102    1.551839\n",
              "std      0.490305    2.173972  ...    1.30794    0.737187\n",
              "min      1.000000    1.000000  ...    1.00000    1.000000\n",
              "25%      1.000000    1.000000  ...    2.00000    1.000000\n",
              "50%      1.000000    1.000000  ...    3.00000    1.000000\n",
              "75%      2.000000    1.000000  ...    4.00000    2.000000\n",
              "max      2.000000    9.000000  ...    5.00000    3.000000\n",
              "\n",
              "[8 rows x 8 columns]"
            ]
          },
          "metadata": {},
          "execution_count": 8
        }
      ]
    },
    {
      "cell_type": "markdown",
      "metadata": {
        "id": "m823G7D48DYd"
      },
      "source": [
        "Теперь проанализируем остальные статистические характеристики (размах и моду) каждого из столбцов с количественными типами данных (это rectal temperature, pulse, respiratory rate). Остальные столбцы имеют категориальный тип данных."
      ]
    },
    {
      "cell_type": "code",
      "metadata": {
        "colab": {
          "base_uri": "https://localhost:8080/"
        },
        "id": "1DYNlVLYxQf1",
        "outputId": "abade917-329b-43d2-971c-a96426063682"
      },
      "source": [
        "min_t = data_horse_stats['rectal temperature'].min()\n",
        "max_t = data_horse_stats['rectal temperature'].max()\n",
        "print('Размах по rectal temperature: '+str(round(max_t-min_t,2)))\n",
        "min_t = data_horse_stats['pulse'].min()\n",
        "max_t = data_horse_stats['pulse'].max()\n",
        "print('Размах по pulse: '+str(round(max_t-min_t,2)))\n",
        "min_t = data_horse_stats['respiratory rate'].min()\n",
        "max_t = data_horse_stats['respiratory rate'].max()\n",
        "print('Размах по respiratory rate: '+str(round(max_t-min_t,2)))\n",
        "print('Значение моды rectal temperature: ', data_horse_stats['rectal temperature'].round().mode()[0])\n",
        "print('Значение моды pulse: ', data_horse_stats['pulse'].round().mode()[0])\n",
        "print('Значение моды respiratory rate: ', data_horse_stats['respiratory rate'].round().mode()[0])"
      ],
      "execution_count": null,
      "outputs": [
        {
          "output_type": "stream",
          "name": "stdout",
          "text": [
            "Размах по rectal temperature: 5.4\n",
            "Размах по pulse: 154.0\n",
            "Размах по respiratory rate: 88.0\n",
            "Значение моды rectal temperature:  38.0\n",
            "Значение моды pulse:  48.0\n",
            "Значение моды respiratory rate:  20.0\n"
          ]
        }
      ]
    },
    {
      "cell_type": "markdown",
      "metadata": {
        "id": "GixlNnLtBiAC"
      },
      "source": [
        "Оценим выбросы в трех имеющихся числовых столбцах через межквартильный разброс:"
      ]
    },
    {
      "cell_type": "code",
      "metadata": {
        "colab": {
          "base_uri": "https://localhost:8080/"
        },
        "id": "iiUnikzF8aXn",
        "outputId": "cc5ed1e9-e814-4bb2-a0c4-8652f35d1429"
      },
      "source": [
        "#выбросы в столбце rectal temperature:\n",
        "q1_t = data_horse_stats['rectal temperature'].quantile(0.25)\n",
        "q3_t = data_horse_stats['rectal temperature'].quantile(0.75)\n",
        "iqr_t = q3_t - q1_t #межквартильный размах\n",
        "lower_bound = q1_t - (1.5 * iqr_t) #нижняя граница\n",
        "upper_bound = q3_t + (1.5 * iqr_t) #верхняя граница\n",
        "remove_outliers = data_horse_stats[data_horse_stats['rectal temperature'].\\\n",
        "                                   between(lower_bound, upper_bound, inclusive=True)].sort_values('rectal temperature')\n",
        "t = pd.concat([data_horse_stats, remove_outliers]).drop_duplicates(keep=False)\n",
        "t['rectal temperature'].unique() #уникальные значения выбросов"
      ],
      "execution_count": null,
      "outputs": [
        {
          "output_type": "execute_result",
          "data": {
            "text/plain": [
              "array([ nan, 39.9, 35.4, 40.3, 39.7, 36.4, 39.6, 36.5, 36. , 36.1, 36.6,\n",
              "       40.8, 40. ])"
            ]
          },
          "metadata": {},
          "execution_count": 11
        }
      ]
    },
    {
      "cell_type": "code",
      "metadata": {
        "colab": {
          "base_uri": "https://localhost:8080/"
        },
        "id": "YdJ1hpShHouO",
        "outputId": "3a691c39-09a6-43eb-ea10-d03e95874b5e"
      },
      "source": [
        "#выбросы в столбце pulse:\n",
        "q1_p = data_horse_stats['pulse'].quantile(0.25)\n",
        "q3_p = data_horse_stats['pulse'].quantile(0.75)\n",
        "iqr_p = q3_p - q1_p #межквартильный размах\n",
        "lower_bound = q1_p - (1.5 * iqr_p) #нижняя граница\n",
        "upper_bound = q3_p + (1.5 * iqr_p) #верхняя граница\n",
        "remove_outliers = data_horse_stats[data_horse_stats['pulse'].\\\n",
        "                                   between(lower_bound, upper_bound, inclusive=True)].sort_values('pulse')\n",
        "p = pd.concat([data_horse_stats, remove_outliers]).drop_duplicates(keep=False)\n",
        "p['pulse'].unique() #уникальные значения выбросов"
      ],
      "execution_count": null,
      "outputs": [
        {
          "output_type": "execute_result",
          "data": {
            "text/plain": [
              "array([164.,  nan, 150., 160., 184.])"
            ]
          },
          "metadata": {},
          "execution_count": 12
        }
      ]
    },
    {
      "cell_type": "code",
      "metadata": {
        "colab": {
          "base_uri": "https://localhost:8080/"
        },
        "id": "9YJz5oQcIbnn",
        "outputId": "657de06b-3d3d-434b-9730-5e784cca4631"
      },
      "source": [
        "#выбросы в столбце respiratory rate:\n",
        "q1_r = data_horse_stats['respiratory rate'].quantile(0.25)\n",
        "q3_r = data_horse_stats['respiratory rate'].quantile(0.75)\n",
        "iqr_r = q3_r - q1_r #межквартильный размах\n",
        "lower_bound = q1_r - (1.5 * iqr_r) #нижняя граница\n",
        "upper_bound = q3_r + (1.5 * iqr_r) #верхняя граница\n",
        "remove_outliers = data_horse_stats[data_horse_stats['respiratory rate'].\\\n",
        "                                   between(lower_bound, upper_bound, inclusive=True)].sort_values('respiratory rate')\n",
        "r = pd.concat([data_horse_stats, remove_outliers]).drop_duplicates(keep=False)\n",
        "r['respiratory rate'].unique() #уникальные значения выбросов"
      ],
      "execution_count": null,
      "outputs": [
        {
          "output_type": "execute_result",
          "data": {
            "text/plain": [
              "array([84., nan, 96., 72., 80., 68., 66., 70., 88.])"
            ]
          },
          "metadata": {},
          "execution_count": 13
        }
      ]
    },
    {
      "cell_type": "markdown",
      "metadata": {
        "id": "ElX1WyfgNFot"
      },
      "source": [
        "#Задание 3. Работа с пропусками\n",
        "Рассчитать количество пропусков для всех выбранных столбцов. Принять и обосновать решение о методе заполнения пропусков по каждому столбцу на основе рассчитанных статистик и возможной взаимосвязи значений в них. Сформировать датафрейм, в котором пропуски будут отсутствовать."
      ]
    },
    {
      "cell_type": "markdown",
      "metadata": {
        "id": "W2wngf0hNntI"
      },
      "source": [
        "Посчитаем процент пропущенных значений в столбцах. Максимально это 20% значений столбца. Итого получаем, что четыре столбца имеют пропуски в пятой части данных, в остальных столбцах пропусков намного меньше:"
      ]
    },
    {
      "cell_type": "code",
      "metadata": {
        "colab": {
          "base_uri": "https://localhost:8080/"
        },
        "id": "ihPYQ6dLI05i",
        "outputId": "3615832c-e1a2-426a-d7f2-ef881dfe2a70"
      },
      "source": [
        "(data_horse_stats.isna().mean()*100).round(2) #пропущенные значения в каждом столбце в процентах"
      ],
      "execution_count": null,
      "outputs": [
        {
          "output_type": "execute_result",
          "data": {
            "text/plain": [
              "surgery                        0.33\n",
              "Age                            0.00\n",
              "rectal temperature            20.00\n",
              "pulse                          8.00\n",
              "respiratory rate              19.33\n",
              "temperature of extremities    18.67\n",
              "pain                          18.33\n",
              "outcome                        0.33\n",
              "dtype: float64"
            ]
          },
          "metadata": {},
          "execution_count": 14
        }
      ]
    },
    {
      "cell_type": "code",
      "metadata": {
        "colab": {
          "base_uri": "https://localhost:8080/"
        },
        "id": "ZJmMnFfytMCp",
        "outputId": "daa323bd-4758-4eff-96fe-d51849676d85"
      },
      "source": [
        "data_horse_stats.isna().sum() #количество пропущенных значений в каждом столбце "
      ],
      "execution_count": null,
      "outputs": [
        {
          "output_type": "execute_result",
          "data": {
            "text/plain": [
              "surgery                        1\n",
              "Age                            0\n",
              "rectal temperature            60\n",
              "pulse                         24\n",
              "respiratory rate              58\n",
              "temperature of extremities    56\n",
              "pain                          55\n",
              "outcome                        1\n",
              "dtype: int64"
            ]
          },
          "metadata": {},
          "execution_count": 15
        }
      ]
    },
    {
      "cell_type": "markdown",
      "metadata": {
        "id": "fWXakVAYe-Cs"
      },
      "source": [
        "Заполним пропущенные значения на основе имеющихся данных. Столбец surgery (была ли операция, 1 - да, 2 - нет) имеет одно пропущенное значение. Так как одно значение из 300 вряд ли сильно повлияет на статистику, то заполним модой по данному столбцу. То же для столбца outcome:"
      ]
    },
    {
      "cell_type": "code",
      "metadata": {
        "id": "xrVWKcJlsdvm"
      },
      "source": [
        "data_horse_stats['surgery'].fillna(data_horse_stats['surgery'].mode()[0], inplace=True)\n",
        "data_horse_stats['outcome'].fillna(data_horse_stats['outcome'].mode()[0], inplace=True)"
      ],
      "execution_count": null,
      "outputs": []
    },
    {
      "cell_type": "code",
      "metadata": {
        "colab": {
          "base_uri": "https://localhost:8080/"
        },
        "id": "efNuKXZ9abxR",
        "outputId": "c9b9c923-a432-4580-b773-62f9391f1e66"
      },
      "source": [
        "data_horse_stats.isna().sum()"
      ],
      "execution_count": null,
      "outputs": [
        {
          "output_type": "execute_result",
          "data": {
            "text/plain": [
              "surgery                        0\n",
              "Age                            0\n",
              "rectal temperature            60\n",
              "pulse                         24\n",
              "respiratory rate              58\n",
              "temperature of extremities    56\n",
              "pain                          55\n",
              "outcome                        0\n",
              "dtype: int64"
            ]
          },
          "metadata": {},
          "execution_count": 17
        }
      ]
    },
    {
      "cell_type": "markdown",
      "metadata": {
        "id": "-sWMl5pFcasN"
      },
      "source": [
        "Далее заполним пропуски в столбце со значениями пульса. Находим завиcимость данного показателя от исхода (outcome)"
      ]
    },
    {
      "cell_type": "code",
      "metadata": {
        "colab": {
          "base_uri": "https://localhost:8080/"
        },
        "id": "ejYfnYeAcnZC",
        "outputId": "aa8cf5da-85b4-4fca-bfda-17a137c5ac3f"
      },
      "source": [
        "data_horse_stats.groupby(['outcome'])['pulse'].median()"
      ],
      "execution_count": null,
      "outputs": [
        {
          "output_type": "execute_result",
          "data": {
            "text/plain": [
              "outcome\n",
              "1.0    54.0\n",
              "2.0    86.0\n",
              "3.0    82.0\n",
              "Name: pulse, dtype: float64"
            ]
          },
          "metadata": {},
          "execution_count": 27
        }
      ]
    },
    {
      "cell_type": "markdown",
      "metadata": {
        "id": "rnzEpJq0cxqj"
      },
      "source": [
        "Производим заполнение пропусков в значениях пульса:"
      ]
    },
    {
      "cell_type": "code",
      "metadata": {
        "id": "IHSb4iu-c4up"
      },
      "source": [
        "data_horse_stats['pulse'].fillna(data_horse_stats.groupby(['outcome'])\\\n",
        "                                              ['pulse'].transform('median'), inplace=True)"
      ],
      "execution_count": null,
      "outputs": []
    },
    {
      "cell_type": "markdown",
      "metadata": {
        "id": "80k858-oa19H"
      },
      "source": [
        "Далее при исследовании данных получаем зависимость частоты дыхания от возраста. Тем не менее разброс значений очень большой, другой значимой закономерности не удалось отследить, тем более указано в описании, что \"полезность сомнительна из-за больших колебаний\" и в том числе ограничивающим фактором выступает наличие пропусков в других влияющих столбцах, поэтому производим заполнение средней частотой дыхания по возрасту."
      ]
    },
    {
      "cell_type": "code",
      "metadata": {
        "colab": {
          "base_uri": "https://localhost:8080/"
        },
        "id": "BG94bgmaUYt7",
        "outputId": "7a6ebf6e-e393-47ba-9da4-e12bad25f92a"
      },
      "source": [
        "data_horse_stats.groupby(['Age'])['respiratory rate'].mean()"
      ],
      "execution_count": null,
      "outputs": [
        {
          "output_type": "execute_result",
          "data": {
            "text/plain": [
              "Age\n",
              "1    28.238739\n",
              "9    54.600000\n",
              "Name: respiratory rate, dtype: float64"
            ]
          },
          "metadata": {},
          "execution_count": 29
        }
      ]
    },
    {
      "cell_type": "code",
      "metadata": {
        "colab": {
          "base_uri": "https://localhost:8080/"
        },
        "id": "BdJuigwPb_SO",
        "outputId": "b979418c-2e6d-4d4e-d66d-93e1cd94dbc9"
      },
      "source": [
        "data_horse_stats['respiratory rate'].fillna(data_horse_stats.groupby(['Age'])\\\n",
        "                                              ['respiratory rate'].transform('mean'), inplace=True)\n",
        "data_horse_stats.isna().sum()"
      ],
      "execution_count": null,
      "outputs": [
        {
          "output_type": "execute_result",
          "data": {
            "text/plain": [
              "surgery                        0\n",
              "Age                            0\n",
              "rectal temperature            60\n",
              "pulse                          0\n",
              "respiratory rate               0\n",
              "temperature of extremities    56\n",
              "pain                          55\n",
              "outcome                        0\n",
              "dtype: int64"
            ]
          },
          "metadata": {},
          "execution_count": 30
        }
      ]
    },
    {
      "cell_type": "markdown",
      "metadata": {
        "id": "0SHi6dyydUbB"
      },
      "source": [
        "Произведем заполнение показателя температуры конечностей. Найдена зависимость этого показателя от исхода и возраста лошади."
      ]
    },
    {
      "cell_type": "code",
      "metadata": {
        "colab": {
          "base_uri": "https://localhost:8080/"
        },
        "id": "e5LNtc29-HhN",
        "outputId": "6e65c92c-bb8e-410b-d637-7182d36fe568"
      },
      "source": [
        "(data_horse_stats.groupby(['outcome', 'Age'])['temperature of extremities'].mean()).round(0)"
      ],
      "execution_count": null,
      "outputs": [
        {
          "output_type": "execute_result",
          "data": {
            "text/plain": [
              "outcome  Age\n",
              "1.0      1      2.0\n",
              "         9      2.0\n",
              "2.0      1      3.0\n",
              "         9      2.0\n",
              "3.0      1      3.0\n",
              "         9      3.0\n",
              "Name: temperature of extremities, dtype: float64"
            ]
          },
          "metadata": {},
          "execution_count": 34
        }
      ]
    },
    {
      "cell_type": "markdown",
      "metadata": {
        "id": "Xok_GDGreRcm"
      },
      "source": [
        "Производим заполнение пропусков в данном столбце в соответствии с описанным наблюдением:"
      ]
    },
    {
      "cell_type": "code",
      "metadata": {
        "colab": {
          "base_uri": "https://localhost:8080/"
        },
        "id": "jU1nRX3edwwl",
        "outputId": "b5015ad4-bf20-407e-a9d4-ffd8d9f78036"
      },
      "source": [
        "data_horse_stats['temperature of extremities'].fillna(data_horse_stats.groupby(['outcome', 'Age'])\\\n",
        "                                              ['temperature of extremities'].transform('mean').round(0), inplace=True)\n",
        "data_horse_stats.isna().sum()"
      ],
      "execution_count": null,
      "outputs": [
        {
          "output_type": "execute_result",
          "data": {
            "text/plain": [
              "surgery                        0\n",
              "Age                            0\n",
              "rectal temperature            60\n",
              "pulse                          0\n",
              "respiratory rate               0\n",
              "temperature of extremities     0\n",
              "pain                          55\n",
              "outcome                        0\n",
              "dtype: int64"
            ]
          },
          "metadata": {},
          "execution_count": 40
        }
      ]
    },
    {
      "cell_type": "markdown",
      "metadata": {
        "id": "BtrkSeTkfKR2"
      },
      "source": [
        "Заполним столбец уровня болевых ощущений. Нашли определенную зависимость этого уровня от наличия операции и возраста:"
      ]
    },
    {
      "cell_type": "code",
      "metadata": {
        "colab": {
          "base_uri": "https://localhost:8080/"
        },
        "id": "tGKJ5Ah3e1VR",
        "outputId": "bf337c93-3309-46fe-acf1-cb5be19666b0"
      },
      "source": [
        "(data_horse_stats.groupby(['Age','surgery'])['pain'].mean()).round(0)"
      ],
      "execution_count": null,
      "outputs": [
        {
          "output_type": "execute_result",
          "data": {
            "text/plain": [
              "Age  surgery\n",
              "1    1.0        3.0\n",
              "     2.0        2.0\n",
              "9    1.0        3.0\n",
              "     2.0        3.0\n",
              "Name: pain, dtype: float64"
            ]
          },
          "metadata": {},
          "execution_count": 44
        }
      ]
    },
    {
      "cell_type": "markdown",
      "metadata": {
        "id": "tJ_RwVYBf0Sr"
      },
      "source": [
        "Заполним пропуски по pain:"
      ]
    },
    {
      "cell_type": "code",
      "metadata": {
        "colab": {
          "base_uri": "https://localhost:8080/"
        },
        "id": "slrVFM-ifbyz",
        "outputId": "be5cde69-146d-4271-8e5c-b3d82dc41c2f"
      },
      "source": [
        "data_horse_stats['pain'].fillna(data_horse_stats.groupby(['Age', 'surgery'])\\\n",
        "                                              ['pain'].transform('mean').round(0), inplace=True)\n",
        "data_horse_stats.isna().sum()"
      ],
      "execution_count": null,
      "outputs": [
        {
          "output_type": "execute_result",
          "data": {
            "text/plain": [
              "surgery                        0\n",
              "Age                            0\n",
              "rectal temperature            60\n",
              "pulse                          0\n",
              "respiratory rate               0\n",
              "temperature of extremities     0\n",
              "pain                           0\n",
              "outcome                        0\n",
              "dtype: int64"
            ]
          },
          "metadata": {},
          "execution_count": 45
        }
      ]
    },
    {
      "cell_type": "markdown",
      "metadata": {
        "id": "U7xx8Q-igIJn"
      },
      "source": [
        "Заполним последний столбец с пропусками, rectal temperature. Логично предположить, что он зависит от температуры конечностей. Дополнительные расчеты показали, что есть также зависимость от возраста:"
      ]
    },
    {
      "cell_type": "code",
      "metadata": {
        "colab": {
          "base_uri": "https://localhost:8080/"
        },
        "id": "eW9hYlHmgErv",
        "outputId": "333be958-250a-496b-ace4-3d30f6e94880"
      },
      "source": [
        "data_horse_stats.groupby(['Age', 'temperature of extremities'])['rectal temperature'].median()"
      ],
      "execution_count": null,
      "outputs": [
        {
          "output_type": "execute_result",
          "data": {
            "text/plain": [
              "Age  temperature of extremities\n",
              "1    1.0                           38.10\n",
              "     2.0                           38.15\n",
              "     3.0                           38.05\n",
              "     4.0                           38.30\n",
              "9    1.0                           38.30\n",
              "     2.0                           38.80\n",
              "     3.0                           38.50\n",
              "     4.0                           39.10\n",
              "Name: rectal temperature, dtype: float64"
            ]
          },
          "metadata": {},
          "execution_count": 58
        }
      ]
    },
    {
      "cell_type": "markdown",
      "metadata": {
        "id": "JNxSIrq2haQn"
      },
      "source": [
        "Определенная зависимость прослеживается, заполним оставшиеся пропуски:"
      ]
    },
    {
      "cell_type": "code",
      "metadata": {
        "colab": {
          "base_uri": "https://localhost:8080/"
        },
        "id": "oGoI8fdIgfRe",
        "outputId": "0b28fe5a-677d-4a87-deee-6b0b4892862c"
      },
      "source": [
        "data_horse_stats['rectal temperature'].fillna(data_horse_stats.groupby(['Age', 'temperature of extremities'])\\\n",
        "                                              ['rectal temperature'].transform('mean'), inplace=True)\n",
        "data_horse_stats.isna().sum()"
      ],
      "execution_count": null,
      "outputs": [
        {
          "output_type": "execute_result",
          "data": {
            "text/plain": [
              "surgery                       0\n",
              "Age                           0\n",
              "rectal temperature            0\n",
              "pulse                         0\n",
              "respiratory rate              0\n",
              "temperature of extremities    0\n",
              "pain                          0\n",
              "outcome                       0\n",
              "dtype: int64"
            ]
          },
          "metadata": {},
          "execution_count": 59
        }
      ]
    },
    {
      "cell_type": "code",
      "metadata": {
        "id": "v8EXgJJLh0-r",
        "colab": {
          "base_uri": "https://localhost:8080/",
          "height": 419
        },
        "outputId": "5aa0cc6d-bd2b-4fc9-888a-1e09d5b0a596"
      },
      "source": [
        "data_horse_stats"
      ],
      "execution_count": null,
      "outputs": [
        {
          "output_type": "execute_result",
          "data": {
            "text/html": [
              "<div>\n",
              "<style scoped>\n",
              "    .dataframe tbody tr th:only-of-type {\n",
              "        vertical-align: middle;\n",
              "    }\n",
              "\n",
              "    .dataframe tbody tr th {\n",
              "        vertical-align: top;\n",
              "    }\n",
              "\n",
              "    .dataframe thead th {\n",
              "        text-align: right;\n",
              "    }\n",
              "</style>\n",
              "<table border=\"1\" class=\"dataframe\">\n",
              "  <thead>\n",
              "    <tr style=\"text-align: right;\">\n",
              "      <th></th>\n",
              "      <th>surgery</th>\n",
              "      <th>Age</th>\n",
              "      <th>rectal temperature</th>\n",
              "      <th>pulse</th>\n",
              "      <th>respiratory rate</th>\n",
              "      <th>temperature of extremities</th>\n",
              "      <th>pain</th>\n",
              "      <th>outcome</th>\n",
              "    </tr>\n",
              "  </thead>\n",
              "  <tbody>\n",
              "    <tr>\n",
              "      <th>0</th>\n",
              "      <td>2.0</td>\n",
              "      <td>1</td>\n",
              "      <td>38.500000</td>\n",
              "      <td>66.0</td>\n",
              "      <td>28.0</td>\n",
              "      <td>3.0</td>\n",
              "      <td>5.0</td>\n",
              "      <td>2.0</td>\n",
              "    </tr>\n",
              "    <tr>\n",
              "      <th>1</th>\n",
              "      <td>1.0</td>\n",
              "      <td>1</td>\n",
              "      <td>39.200000</td>\n",
              "      <td>88.0</td>\n",
              "      <td>20.0</td>\n",
              "      <td>3.0</td>\n",
              "      <td>3.0</td>\n",
              "      <td>3.0</td>\n",
              "    </tr>\n",
              "    <tr>\n",
              "      <th>2</th>\n",
              "      <td>2.0</td>\n",
              "      <td>1</td>\n",
              "      <td>38.300000</td>\n",
              "      <td>40.0</td>\n",
              "      <td>24.0</td>\n",
              "      <td>1.0</td>\n",
              "      <td>3.0</td>\n",
              "      <td>1.0</td>\n",
              "    </tr>\n",
              "    <tr>\n",
              "      <th>3</th>\n",
              "      <td>1.0</td>\n",
              "      <td>9</td>\n",
              "      <td>39.100000</td>\n",
              "      <td>164.0</td>\n",
              "      <td>84.0</td>\n",
              "      <td>4.0</td>\n",
              "      <td>2.0</td>\n",
              "      <td>2.0</td>\n",
              "    </tr>\n",
              "    <tr>\n",
              "      <th>4</th>\n",
              "      <td>2.0</td>\n",
              "      <td>1</td>\n",
              "      <td>37.300000</td>\n",
              "      <td>104.0</td>\n",
              "      <td>35.0</td>\n",
              "      <td>3.0</td>\n",
              "      <td>2.0</td>\n",
              "      <td>2.0</td>\n",
              "    </tr>\n",
              "    <tr>\n",
              "      <th>...</th>\n",
              "      <td>...</td>\n",
              "      <td>...</td>\n",
              "      <td>...</td>\n",
              "      <td>...</td>\n",
              "      <td>...</td>\n",
              "      <td>...</td>\n",
              "      <td>...</td>\n",
              "      <td>...</td>\n",
              "    </tr>\n",
              "    <tr>\n",
              "      <th>295</th>\n",
              "      <td>1.0</td>\n",
              "      <td>1</td>\n",
              "      <td>38.421053</td>\n",
              "      <td>120.0</td>\n",
              "      <td>70.0</td>\n",
              "      <td>4.0</td>\n",
              "      <td>2.0</td>\n",
              "      <td>3.0</td>\n",
              "    </tr>\n",
              "    <tr>\n",
              "      <th>296</th>\n",
              "      <td>2.0</td>\n",
              "      <td>1</td>\n",
              "      <td>37.200000</td>\n",
              "      <td>72.0</td>\n",
              "      <td>24.0</td>\n",
              "      <td>3.0</td>\n",
              "      <td>4.0</td>\n",
              "      <td>3.0</td>\n",
              "    </tr>\n",
              "    <tr>\n",
              "      <th>297</th>\n",
              "      <td>1.0</td>\n",
              "      <td>1</td>\n",
              "      <td>37.500000</td>\n",
              "      <td>72.0</td>\n",
              "      <td>30.0</td>\n",
              "      <td>4.0</td>\n",
              "      <td>4.0</td>\n",
              "      <td>2.0</td>\n",
              "    </tr>\n",
              "    <tr>\n",
              "      <th>298</th>\n",
              "      <td>1.0</td>\n",
              "      <td>1</td>\n",
              "      <td>36.500000</td>\n",
              "      <td>100.0</td>\n",
              "      <td>24.0</td>\n",
              "      <td>3.0</td>\n",
              "      <td>3.0</td>\n",
              "      <td>1.0</td>\n",
              "    </tr>\n",
              "    <tr>\n",
              "      <th>299</th>\n",
              "      <td>1.0</td>\n",
              "      <td>1</td>\n",
              "      <td>37.200000</td>\n",
              "      <td>40.0</td>\n",
              "      <td>20.0</td>\n",
              "      <td>3.0</td>\n",
              "      <td>3.0</td>\n",
              "      <td>3.0</td>\n",
              "    </tr>\n",
              "  </tbody>\n",
              "</table>\n",
              "<p>300 rows × 8 columns</p>\n",
              "</div>"
            ],
            "text/plain": [
              "     surgery  Age  ...  pain  outcome\n",
              "0        2.0    1  ...   5.0      2.0\n",
              "1        1.0    1  ...   3.0      3.0\n",
              "2        2.0    1  ...   3.0      1.0\n",
              "3        1.0    9  ...   2.0      2.0\n",
              "4        2.0    1  ...   2.0      2.0\n",
              "..       ...  ...  ...   ...      ...\n",
              "295      1.0    1  ...   2.0      3.0\n",
              "296      2.0    1  ...   4.0      3.0\n",
              "297      1.0    1  ...   4.0      2.0\n",
              "298      1.0    1  ...   3.0      1.0\n",
              "299      1.0    1  ...   3.0      3.0\n",
              "\n",
              "[300 rows x 8 columns]"
            ]
          },
          "metadata": {},
          "execution_count": 60
        }
      ]
    },
    {
      "cell_type": "code",
      "metadata": {
        "id": "s04ajoLah20R"
      },
      "source": [
        ""
      ],
      "execution_count": null,
      "outputs": []
    }
  ]
}